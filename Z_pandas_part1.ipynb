{
 "cells": [
  {
   "cell_type": "markdown",
   "id": "4488b33d",
   "metadata": {},
   "source": [
    "#### Pandas "
   ]
  },
  {
   "cell_type": "code",
   "execution_count": 1,
   "id": "327e66b0",
   "metadata": {},
   "outputs": [
    {
     "data": {
      "text/plain": [
       "<module 'xlrd' from 'c:\\\\Users\\\\JINAL\\\\OneDrive\\\\Desktop\\\\pandas\\\\.venv\\\\Lib\\\\site-packages\\\\xlrd\\\\__init__.py'>"
      ]
     },
     "execution_count": 1,
     "metadata": {},
     "output_type": "execute_result"
    }
   ],
   "source": [
    "# %pip install xlrd\n",
    "\n",
    "import numpy as np\n",
    "import pandas as pd\n",
    "import matplotlib.pyplot as plt\n",
    "import importlib\n",
    "\n",
    "importlib.import_module('xlrd')"
   ]
  },
  {
   "cell_type": "code",
   "execution_count": 2,
   "id": "ade0122f",
   "metadata": {},
   "outputs": [
    {
     "name": "stdout",
     "output_type": "stream",
     "text": [
      "      ORDERNUMBER  QUANTITYORDERED  PRICEEACH  ORDERLINENUMBER    SALES  \\\n",
      "0           10107               30      95.70                2  2871.00   \n",
      "1           10121               34      81.35                5  2765.90   \n",
      "2           10134               41      94.74                2  3884.34   \n",
      "3           10145               45      83.26                6  3746.70   \n",
      "4           10159               49     100.00               14  5205.27   \n",
      "...           ...              ...        ...              ...      ...   \n",
      "2818        10350               20     100.00               15  2244.40   \n",
      "2819        10373               29     100.00                1  3978.51   \n",
      "2820        10386               43     100.00                4  5417.57   \n",
      "2821        10397               34      62.24                1  2116.16   \n",
      "2822        10414               47      65.52                9  3079.44   \n",
      "\n",
      "            ORDERDATE    STATUS  QTR_ID  MONTH_ID  YEAR_ID  ...  \\\n",
      "0      2/24/2003 0:00   Shipped       1         2     2003  ...   \n",
      "1       5/7/2003 0:00   Shipped       2         5     2003  ...   \n",
      "2       7/1/2003 0:00   Shipped       3         7     2003  ...   \n",
      "3      8/25/2003 0:00   Shipped       3         8     2003  ...   \n",
      "4     10/10/2003 0:00   Shipped       4        10     2003  ...   \n",
      "...               ...       ...     ...       ...      ...  ...   \n",
      "2818   12/2/2004 0:00   Shipped       4        12     2004  ...   \n",
      "2819   1/31/2005 0:00   Shipped       1         1     2005  ...   \n",
      "2820    3/1/2005 0:00  Resolved       1         3     2005  ...   \n",
      "2821   3/28/2005 0:00   Shipped       1         3     2005  ...   \n",
      "2822    5/6/2005 0:00   On Hold       2         5     2005  ...   \n",
      "\n",
      "                       ADDRESSLINE1  ADDRESSLINE2           CITY STATE  \\\n",
      "0           897 Long Airport Avenue           NaN            NYC    NY   \n",
      "1                59 rue de l'Abbaye           NaN          Reims   NaN   \n",
      "2     27 rue du Colonel Pierre Avia           NaN          Paris   NaN   \n",
      "3                78934 Hillside Dr.           NaN       Pasadena    CA   \n",
      "4                   7734 Strong St.           NaN  San Francisco    CA   \n",
      "...                             ...           ...            ...   ...   \n",
      "2818             C/ Moralzarzal, 86           NaN         Madrid   NaN   \n",
      "2819                    Torikatu 38           NaN           Oulu   NaN   \n",
      "2820             C/ Moralzarzal, 86           NaN         Madrid   NaN   \n",
      "2821          1 rue Alsace-Lorraine           NaN       Toulouse   NaN   \n",
      "2822             8616 Spinnaker Dr.           NaN         Boston    MA   \n",
      "\n",
      "     POSTALCODE  COUNTRY TERRITORY CONTACTLASTNAME CONTACTFIRSTNAME DEALSIZE  \n",
      "0         10022      USA       NaN              Yu             Kwai    Small  \n",
      "1         51100   France      EMEA         Henriot             Paul    Small  \n",
      "2         75508   France      EMEA        Da Cunha           Daniel   Medium  \n",
      "3         90003      USA       NaN           Young            Julie   Medium  \n",
      "4           NaN      USA       NaN           Brown            Julie   Medium  \n",
      "...         ...      ...       ...             ...              ...      ...  \n",
      "2818      28034    Spain      EMEA          Freyre            Diego    Small  \n",
      "2819      90110  Finland      EMEA       Koskitalo           Pirkko   Medium  \n",
      "2820      28034    Spain      EMEA          Freyre            Diego   Medium  \n",
      "2821      31000   France      EMEA          Roulet          Annette    Small  \n",
      "2822      51003      USA       NaN         Yoshido             Juri   Medium  \n",
      "\n",
      "[2823 rows x 25 columns]\n",
      "      Row ID        Order ID Order Date  Ship Date       Ship Mode  \\\n",
      "0          1  CA-2016-152156 2016-11-08 2016-11-11    Second Class   \n",
      "1          2  CA-2016-152156 2016-11-08 2016-11-11    Second Class   \n",
      "2          3  CA-2016-138688 2016-06-12 2016-06-16    Second Class   \n",
      "3          4  US-2015-108966 2015-10-11 2015-10-18  Standard Class   \n",
      "4          5  US-2015-108966 2015-10-11 2015-10-18  Standard Class   \n",
      "...      ...             ...        ...        ...             ...   \n",
      "9989    9990  CA-2014-110422 2014-01-21 2014-01-23    Second Class   \n",
      "9990    9991  CA-2017-121258 2017-02-26 2017-03-03  Standard Class   \n",
      "9991    9992  CA-2017-121258 2017-02-26 2017-03-03  Standard Class   \n",
      "9992    9993  CA-2017-121258 2017-02-26 2017-03-03  Standard Class   \n",
      "9993    9994  CA-2017-119914 2017-05-04 2017-05-09    Second Class   \n",
      "\n",
      "     Customer ID     Customer Name    Segment        Country             City  \\\n",
      "0       CG-12520       Claire Gute   Consumer  United States        Henderson   \n",
      "1       CG-12520       Claire Gute   Consumer  United States        Henderson   \n",
      "2       DV-13045   Darrin Van Huff  Corporate  United States      Los Angeles   \n",
      "3       SO-20335    Sean O'Donnell   Consumer  United States  Fort Lauderdale   \n",
      "4       SO-20335    Sean O'Donnell   Consumer  United States  Fort Lauderdale   \n",
      "...          ...               ...        ...            ...              ...   \n",
      "9989    TB-21400  Tom Boeckenhauer   Consumer  United States            Miami   \n",
      "9990    DB-13060       Dave Brooks   Consumer  United States       Costa Mesa   \n",
      "9991    DB-13060       Dave Brooks   Consumer  United States       Costa Mesa   \n",
      "9992    DB-13060       Dave Brooks   Consumer  United States       Costa Mesa   \n",
      "9993    CC-12220      Chris Cortes   Consumer  United States      Westminster   \n",
      "\n",
      "      ... Postal Code  Region       Product ID         Category Sub-Category  \\\n",
      "0     ...       42420   South  FUR-BO-10001798        Furniture    Bookcases   \n",
      "1     ...       42420   South  FUR-CH-10000454        Furniture       Chairs   \n",
      "2     ...       90036    West  OFF-LA-10000240  Office Supplies       Labels   \n",
      "3     ...       33311   South  FUR-TA-10000577        Furniture       Tables   \n",
      "4     ...       33311   South  OFF-ST-10000760  Office Supplies      Storage   \n",
      "...   ...         ...     ...              ...              ...          ...   \n",
      "9989  ...       33180   South  FUR-FU-10001889        Furniture  Furnishings   \n",
      "9990  ...       92627    West  FUR-FU-10000747        Furniture  Furnishings   \n",
      "9991  ...       92627    West  TEC-PH-10003645       Technology       Phones   \n",
      "9992  ...       92627    West  OFF-PA-10004041  Office Supplies        Paper   \n",
      "9993  ...       92683    West  OFF-AP-10002684  Office Supplies   Appliances   \n",
      "\n",
      "                                           Product Name     Sales  Quantity  \\\n",
      "0                     Bush Somerset Collection Bookcase  261.9600         2   \n",
      "1     Hon Deluxe Fabric Upholstered Stacking Chairs,...  731.9400         3   \n",
      "2     Self-Adhesive Address Labels for Typewriters b...   14.6200         2   \n",
      "3         Bretford CR4500 Series Slim Rectangular Table  957.5775         5   \n",
      "4                        Eldon Fold 'N Roll Cart System   22.3680         2   \n",
      "...                                                 ...       ...       ...   \n",
      "9989                             Ultra Door Pull Handle   25.2480         3   \n",
      "9990  Tenex B1-RE Series Chair Mats for Low Pile Car...   91.9600         2   \n",
      "9991                              Aastra 57i VoIP phone  258.5760         2   \n",
      "9992  It's Hot Message Books with Stickers, 2 3/4\" x 5\"   29.6000         4   \n",
      "9993  Acco 7-Outlet Masterpiece Power Center, Wihtou...  243.1600         2   \n",
      "\n",
      "      Discount    Profit  \n",
      "0         0.00   41.9136  \n",
      "1         0.00  219.5820  \n",
      "2         0.00    6.8714  \n",
      "3         0.45 -383.0310  \n",
      "4         0.20    2.5164  \n",
      "...        ...       ...  \n",
      "9989      0.20    4.1028  \n",
      "9990      0.00   15.6332  \n",
      "9991      0.20   19.3932  \n",
      "9992      0.00   13.3200  \n",
      "9993      0.00   72.9480  \n",
      "\n",
      "[9994 rows x 21 columns]\n",
      "    id                                               name  \\\n",
      "0    1                                    Apple iPhone 12   \n",
      "1    2                                 Samsung Galaxy S21   \n",
      "2    3                                 Sony PlayStation 5   \n",
      "3    4                  LG OLED55CXPUA 55-inch 4K OLED TV   \n",
      "4    5        Bose QuietComfort 35 II Wireless Headphones   \n",
      "5    6                          Fitbit Versa 3 Smartwatch   \n",
      "6    7                             KitchenAid Stand Mixer   \n",
      "7    8                 Dyson V11 Absolute Cordless Vacuum   \n",
      "8    9                         Ninja Foodi Smart XL Grill   \n",
      "9   10                    Canon EOS Rebel T8i DSLR Camera   \n",
      "10  11                                  Apple AirPods Pro   \n",
      "11  12        Bose QuietComfort 35 II Wireless Headphones   \n",
      "12  13                    Fitbit Charge 4 Fitness Tracker   \n",
      "13  14                              Samsung Galaxy Watch3   \n",
      "14  15  Sony WH-1000XM4 Wireless Noise-Cancelling Head...   \n",
      "15  16          Breville Barista Express Espresso Machine   \n",
      "16  17                        Keurig K-Elite Coffee Maker   \n",
      "17  18                     iRobot Roomba i7+ Robot Vacuum   \n",
      "18  19                   Ninja Foodi Digital Air Fry Oven   \n",
      "19  20                   Cuisinart ICE-70 Ice Cream Maker   \n",
      "\n",
      "                                          description    price  \\\n",
      "0   The Apple iPhone 12 features a 6.1-inch Super ...   999.00   \n",
      "1   The Samsung Galaxy S21 features a 6.2-inch Dyn...   799.00   \n",
      "2   The Sony PlayStation 5 features an AMD Zen 2-b...   499.99   \n",
      "3   The LG OLED55CXPUA 55-inch 4K OLED TV features...  1599.99   \n",
      "4   The Bose QuietComfort 35 II Wireless Headphone...   299.00   \n",
      "5   The Fitbit Versa 3 Smartwatch features a built...   229.95   \n",
      "6   The KitchenAid Stand Mixer features a 5-quart ...   399.99   \n",
      "7   The Dyson V11 Absolute Cordless Vacuum feature...   699.99   \n",
      "8   The Ninja Foodi Smart XL Grill features 6-in-1...   279.99   \n",
      "9   The Canon EOS Rebel T8i DSLR Camera features a...   899.00   \n",
      "10  The Apple AirPods Pro feature active noise can...   249.00   \n",
      "11  The Bose QuietComfort 35 II Wireless Headphone...   299.00   \n",
      "12  The Fitbit Charge 4 Fitness Tracker features G...   129.95   \n",
      "13  The Samsung Galaxy Watch3 features a rotating ...   399.99   \n",
      "14  The Sony WH-1000XM4 Wireless Noise-Cancelling ...   349.99   \n",
      "15  The Breville Barista Express Espresso Machine ...   699.95   \n",
      "16  The Keurig K-Elite Coffee Maker features a str...   169.99   \n",
      "17  The iRobot Roomba i7+ Robot Vacuum features au...   799.99   \n",
      "18  The Ninja Foodi Digital Air Fry Oven features ...   209.99   \n",
      "19  The Cuisinart ICE-70 Ice Cream Maker features ...   139.99   \n",
      "\n",
      "           category                                              image  \n",
      "0       Electronics  https://www.apple.com/newsroom/images/product/...  \n",
      "1       Electronics  https://images.samsung.com/is/image/samsung/p6...  \n",
      "2       Electronics  https://www.sony.com/image/44baa604124b770c824...  \n",
      "3       Electronics  https://www.lg.com/us/images/tvs/md07501804/ga...  \n",
      "4       Electronics  https://assets.bose.com/content/dam/Bose_DAM/W...  \n",
      "5       Electronics  https://www.fitbit.com/global/content/dam/fitb...  \n",
      "6    Home & Kitchen  https://www.kitchenaid.com/content/dam/global/...  \n",
      "7   Home Appliances  https://www.dysoncanada.ca/dam/dyson/images/pr...  \n",
      "8    Home & Kitchen  https://www.ninjakitchen.com/medias/Ninja-OP50...  \n",
      "9       Electronics  https://www.canon.com.au/-/media/images/produc...  \n",
      "10      Electronics  https://www.apple.com/v/airpods-pro/b/images/m...  \n",
      "11      Electronics  https://assets.bose.com/content/dam/Bose_DAM/W...  \n",
      "12      Electronics  https://www.fitbit.com/global/content/dam/fitb...  \n",
      "13      Electronics  https://images.samsung.com/is/image/samsung/as...  \n",
      "14      Electronics  https://www.sony.com/image/1cdd6354c4cd21cc4f7...  \n",
      "15   Home & Kitchen  https://www.breville.com/content/dam/breville/...  \n",
      "16   Home & Kitchen  https://www.keurig.com/content/dam/global-ecom...  \n",
      "17   Home & Kitchen  https://store.irobot.com/default/i7-vacuuming-...  \n",
      "18   Home & Kitchen  https://www.ninjakitchen.com/static/img/produc...  \n",
      "19   Home & Kitchen  https://www.cuisinart.com/share/images/product...  \n"
     ]
    }
   ],
   "source": [
    "df_csv = pd.read_csv(\"sales_data_sample.csv\", encoding=\"latin1\")\n",
    "print(df_csv)\n",
    "\n",
    "df_excel = pd.read_excel(\"SampleSuperstore.xlsx\")\n",
    "print(df_excel)\n",
    "\n",
    "df_json = pd.read_json(\"sample_Data.json\", encoding=\"latin1\")\n",
    "print(df_json)"
   ]
  },
  {
   "cell_type": "markdown",
   "id": "920cdf68",
   "metadata": {},
   "source": [
    "#### Save & create data frames in pandas"
   ]
  },
  {
   "cell_type": "markdown",
   "id": "9b4a2a5c",
   "metadata": {},
   "source": [
    "##### create dataframe"
   ]
  },
  {
   "cell_type": "code",
   "execution_count": null,
   "id": "8fc44e7a",
   "metadata": {},
   "outputs": [
    {
     "name": "stdout",
     "output_type": "stream",
     "text": [
      "     name  Age       City\n",
      "0   Jinal   23  Ahmedabad\n",
      "1  Dhruvi   21  Ahmedabad\n",
      "2   NIsha   23  Ahmedabad\n",
      "3   Rudra   17  Ahmedabad\n"
     ]
    }
   ],
   "source": [
    "# create data \n",
    "\n",
    "data = {\n",
    "    \"name\" : [\"Jinal\", \"Dhruvi\",\"NIsha\", \"Rudra\"],\n",
    "    \"Age\"  : [23,21,23,17],\n",
    "    \"City\" : [\"Ahmedabad\",\"Ahmedabad\",\"Ahmedabad\",\"Ahmedabad\"]\n",
    "}\n",
    "\n",
    "df_data = pd.DataFrame(data)\n",
    "print(df_data)\n",
    "\n",
    "# in this o/p with index  \n",
    "# so to remove it \n",
    "# first we will convert it into csv \n",
    "\n",
    "df_data.to_csv(\"df_data_output.csv\")"
   ]
  },
  {
   "cell_type": "markdown",
   "id": "b1675859",
   "metadata": {},
   "source": [
    "##### Convert data frame to csv"
   ]
  },
  {
   "cell_type": "code",
   "execution_count": 9,
   "id": "7bfc2db7",
   "metadata": {},
   "outputs": [
    {
     "name": "stdout",
     "output_type": "stream",
     "text": [
      "     name  Age       City\n",
      "0   Jinal   23  Ahmedabad\n",
      "1  Dhruvi   21  Ahmedabad\n",
      "2   NIsha   23  Ahmedabad\n",
      "3   Rudra   17  Ahmedabad\n"
     ]
    }
   ],
   "source": [
    "data = {\n",
    "    \"name\" : [\"Jinal\", \"Dhruvi\",\"NIsha\", \"Rudra\"],\n",
    "    \"Age\"  : [23,21,23,17],\n",
    "    \"City\" : [\"Ahmedabad\",\"Ahmedabad\",\"Ahmedabad\",\"Ahmedabad\"]\n",
    "}\n",
    "\n",
    "df_data = pd.DataFrame(data)\n",
    "print(df_data)\n",
    "\n",
    "df_data.to_csv(\"df_data_output.csv\")"
   ]
  },
  {
   "cell_type": "markdown",
   "id": "eb6421aa",
   "metadata": {},
   "source": [
    "##### to remove index --> index=False"
   ]
  },
  {
   "cell_type": "code",
   "execution_count": null,
   "id": "a1c15eaf",
   "metadata": {},
   "outputs": [
    {
     "name": "stdout",
     "output_type": "stream",
     "text": [
      "     name  Age       City\n",
      "0   Jinal   23  Ahmedabad\n",
      "1  Dhruvi   21  Ahmedabad\n",
      "2   NIsha   23  Ahmedabad\n",
      "3   Rudra   17  Ahmedabad\n"
     ]
    }
   ],
   "source": [
    "df_data.to_csv(\"df_data_output.csv\", index = False)\n",
    "\n",
    "# it shows index by following commands but in csv file it will not show the index\n",
    "# print(pd.read_csv(\"df_data_output.csv\", encoding=\"latin1\"))\n",
    "# print(df_data)"
   ]
  },
  {
   "cell_type": "markdown",
   "id": "79842a80",
   "metadata": {},
   "source": [
    "##### Convert to excel file --> to_excel()"
   ]
  },
  {
   "cell_type": "code",
   "execution_count": 15,
   "id": "1363b796",
   "metadata": {},
   "outputs": [],
   "source": [
    "df_data.to_csv(\"df_data_output.xlsx\")\n",
    "\n",
    "# to remove index\n",
    "df_data.to_csv(\"df_data_output.xlsx\", index=False)\n"
   ]
  },
  {
   "cell_type": "markdown",
   "id": "84defe90",
   "metadata": {},
   "source": [
    "##### Convert it into json --> to_json()"
   ]
  },
  {
   "cell_type": "code",
   "execution_count": 18,
   "id": "34537888",
   "metadata": {},
   "outputs": [],
   "source": [
    "df_data.to_json(\"df_data_output.json\")\n",
    "\n",
    "# to remove index\n",
    "# df_data.to_csv(\"df_data_output.json\", index=False)"
   ]
  },
  {
   "cell_type": "markdown",
   "id": "b473158d",
   "metadata": {},
   "source": [
    "##### head and tail method --> by default it will display 5 rows "
   ]
  },
  {
   "cell_type": "code",
   "execution_count": 20,
   "id": "c478a43c",
   "metadata": {},
   "outputs": [
    {
     "name": "stdout",
     "output_type": "stream",
     "text": [
      "Display first 10 rows :     id                                         name  \\\n",
      "0   1                              Apple iPhone 12   \n",
      "1   2                           Samsung Galaxy S21   \n",
      "2   3                           Sony PlayStation 5   \n",
      "3   4            LG OLED55CXPUA 55-inch 4K OLED TV   \n",
      "4   5  Bose QuietComfort 35 II Wireless Headphones   \n",
      "5   6                    Fitbit Versa 3 Smartwatch   \n",
      "6   7                       KitchenAid Stand Mixer   \n",
      "7   8           Dyson V11 Absolute Cordless Vacuum   \n",
      "8   9                   Ninja Foodi Smart XL Grill   \n",
      "9  10              Canon EOS Rebel T8i DSLR Camera   \n",
      "\n",
      "                                         description    price  \\\n",
      "0  The Apple iPhone 12 features a 6.1-inch Super ...   999.00   \n",
      "1  The Samsung Galaxy S21 features a 6.2-inch Dyn...   799.00   \n",
      "2  The Sony PlayStation 5 features an AMD Zen 2-b...   499.99   \n",
      "3  The LG OLED55CXPUA 55-inch 4K OLED TV features...  1599.99   \n",
      "4  The Bose QuietComfort 35 II Wireless Headphone...   299.00   \n",
      "5  The Fitbit Versa 3 Smartwatch features a built...   229.95   \n",
      "6  The KitchenAid Stand Mixer features a 5-quart ...   399.99   \n",
      "7  The Dyson V11 Absolute Cordless Vacuum feature...   699.99   \n",
      "8  The Ninja Foodi Smart XL Grill features 6-in-1...   279.99   \n",
      "9  The Canon EOS Rebel T8i DSLR Camera features a...   899.00   \n",
      "\n",
      "          category                                              image  \n",
      "0      Electronics  https://www.apple.com/newsroom/images/product/...  \n",
      "1      Electronics  https://images.samsung.com/is/image/samsung/p6...  \n",
      "2      Electronics  https://www.sony.com/image/44baa604124b770c824...  \n",
      "3      Electronics  https://www.lg.com/us/images/tvs/md07501804/ga...  \n",
      "4      Electronics  https://assets.bose.com/content/dam/Bose_DAM/W...  \n",
      "5      Electronics  https://www.fitbit.com/global/content/dam/fitb...  \n",
      "6   Home & Kitchen  https://www.kitchenaid.com/content/dam/global/...  \n",
      "7  Home Appliances  https://www.dysoncanada.ca/dam/dyson/images/pr...  \n",
      "8   Home & Kitchen  https://www.ninjakitchen.com/medias/Ninja-OP50...  \n",
      "9      Electronics  https://www.canon.com.au/-/media/images/produc...  \n",
      "\n",
      "\n",
      "\n",
      "\n",
      "\n",
      "\n",
      "\n",
      "\n",
      "\n",
      "\n",
      "Display last 10 rows :      id                                               name  \\\n",
      "10  11                                  Apple AirPods Pro   \n",
      "11  12        Bose QuietComfort 35 II Wireless Headphones   \n",
      "12  13                    Fitbit Charge 4 Fitness Tracker   \n",
      "13  14                              Samsung Galaxy Watch3   \n",
      "14  15  Sony WH-1000XM4 Wireless Noise-Cancelling Head...   \n",
      "15  16          Breville Barista Express Espresso Machine   \n",
      "16  17                        Keurig K-Elite Coffee Maker   \n",
      "17  18                     iRobot Roomba i7+ Robot Vacuum   \n",
      "18  19                   Ninja Foodi Digital Air Fry Oven   \n",
      "19  20                   Cuisinart ICE-70 Ice Cream Maker   \n",
      "\n",
      "                                          description   price        category  \\\n",
      "10  The Apple AirPods Pro feature active noise can...  249.00     Electronics   \n",
      "11  The Bose QuietComfort 35 II Wireless Headphone...  299.00     Electronics   \n",
      "12  The Fitbit Charge 4 Fitness Tracker features G...  129.95     Electronics   \n",
      "13  The Samsung Galaxy Watch3 features a rotating ...  399.99     Electronics   \n",
      "14  The Sony WH-1000XM4 Wireless Noise-Cancelling ...  349.99     Electronics   \n",
      "15  The Breville Barista Express Espresso Machine ...  699.95  Home & Kitchen   \n",
      "16  The Keurig K-Elite Coffee Maker features a str...  169.99  Home & Kitchen   \n",
      "17  The iRobot Roomba i7+ Robot Vacuum features au...  799.99  Home & Kitchen   \n",
      "18  The Ninja Foodi Digital Air Fry Oven features ...  209.99  Home & Kitchen   \n",
      "19  The Cuisinart ICE-70 Ice Cream Maker features ...  139.99  Home & Kitchen   \n",
      "\n",
      "                                                image  \n",
      "10  https://www.apple.com/v/airpods-pro/b/images/m...  \n",
      "11  https://assets.bose.com/content/dam/Bose_DAM/W...  \n",
      "12  https://www.fitbit.com/global/content/dam/fitb...  \n",
      "13  https://images.samsung.com/is/image/samsung/as...  \n",
      "14  https://www.sony.com/image/1cdd6354c4cd21cc4f7...  \n",
      "15  https://www.breville.com/content/dam/breville/...  \n",
      "16  https://www.keurig.com/content/dam/global-ecom...  \n",
      "17  https://store.irobot.com/default/i7-vacuuming-...  \n",
      "18  https://www.ninjakitchen.com/static/img/produc...  \n",
      "19  https://www.cuisinart.com/share/images/product...  \n"
     ]
    }
   ],
   "source": [
    "df_rows = pd.read_json(\"sample_Data.json\")\n",
    "print(\"Display first 10 rows : \", df_rows.head(10))\n",
    "print(\"\\n\")\n",
    "print(\"\\n\")\n",
    "print(\"\\n\")\n",
    "print(\"\\n\")\n",
    "print(\"\\n\")\n",
    "print(\"Display last 10 rows : \", df_rows.tail(10))"
   ]
  },
  {
   "cell_type": "markdown",
   "id": "bc808a05",
   "metadata": {},
   "source": [
    "##### info() method to understand the dataset"
   ]
  },
  {
   "cell_type": "code",
   "execution_count": null,
   "id": "e22ac90f",
   "metadata": {},
   "outputs": [
    {
     "name": "stdout",
     "output_type": "stream",
     "text": [
      "<class 'pandas.core.frame.DataFrame'>\n",
      "RangeIndex: 20 entries, 0 to 19\n",
      "Data columns (total 6 columns):\n",
      " #   Column       Non-Null Count  Dtype  \n",
      "---  ------       --------------  -----  \n",
      " 0   id           20 non-null     int64  \n",
      " 1   name         20 non-null     object \n",
      " 2   description  20 non-null     object \n",
      " 3   price        20 non-null     float64\n",
      " 4   category     20 non-null     object \n",
      " 5   image        20 non-null     object \n",
      "dtypes: float64(1), int64(1), object(4)\n",
      "memory usage: 1.1+ KB\n",
      "\n",
      " Info of the dataset : None\n",
      "<class 'pandas.core.frame.DataFrame'>\n",
      "RangeIndex: 4 entries, 0 to 3\n",
      "Data columns (total 3 columns):\n",
      " #   Column  Non-Null Count  Dtype \n",
      "---  ------  --------------  ----- \n",
      " 0   name    4 non-null      object\n",
      " 1   Age     4 non-null      int64 \n",
      " 2   City    4 non-null      object\n",
      "dtypes: int64(1), object(2)\n",
      "memory usage: 228.0+ bytes\n",
      "None\n"
     ]
    }
   ],
   "source": [
    "df_info = pd.read_json(\"sample_Data.json\")\n",
    "print(\"\\n Info of the dataset :\",df_info.info())\n",
    "\n",
    "\n",
    "data = {\n",
    "    \"name\" : [\"Jinal\", \"Dhruvi\",\"NIsha\", \"Rudra\"],\n",
    "    \"Age\"  : [23,21,23,17],\n",
    "    \"City\" : [\"Ahmedabad\",\"Ahmedabad\",\"Ahmedabad\",\"Ahmedabad\"]\n",
    "}\n",
    "df_data = pd.DataFrame(data)\n",
    "print(df_data.info())"
   ]
  },
  {
   "cell_type": "markdown",
   "id": "2efe7e01",
   "metadata": {},
   "source": [
    "##### Describe method"
   ]
  },
  {
   "cell_type": "code",
   "execution_count": 51,
   "id": "bbf7d65c",
   "metadata": {},
   "outputs": [
    {
     "name": "stdout",
     "output_type": "stream",
     "text": [
      "\n",
      " descriptive data :          ORDERNUMBER  QUANTITYORDERED    PRICEEACH  ORDERLINENUMBER  \\\n",
      "count   2823.000000      2823.000000  2823.000000      2823.000000   \n",
      "mean   10258.725115        35.092809    83.658544         6.466171   \n",
      "std       92.085478         9.741443    20.174277         4.225841   \n",
      "min    10100.000000         6.000000    26.880000         1.000000   \n",
      "25%    10180.000000        27.000000    68.860000         3.000000   \n",
      "50%    10262.000000        35.000000    95.700000         6.000000   \n",
      "75%    10333.500000        43.000000   100.000000         9.000000   \n",
      "max    10425.000000        97.000000   100.000000        18.000000   \n",
      "\n",
      "              SALES       QTR_ID     MONTH_ID     YEAR_ID         MSRP  \n",
      "count   2823.000000  2823.000000  2823.000000  2823.00000  2823.000000  \n",
      "mean    3553.889072     2.717676     7.092455  2003.81509   100.715551  \n",
      "std     1841.865106     1.203878     3.656633     0.69967    40.187912  \n",
      "min      482.130000     1.000000     1.000000  2003.00000    33.000000  \n",
      "25%     2203.430000     2.000000     4.000000  2003.00000    68.000000  \n",
      "50%     3184.800000     3.000000     8.000000  2004.00000    99.000000  \n",
      "75%     4508.000000     4.000000    11.000000  2004.00000   124.000000  \n",
      "max    14082.800000     4.000000    12.000000  2005.00000   214.000000  \n"
     ]
    }
   ],
   "source": [
    "df_describe = pd.read_csv(\"sales_data_sample.csv\",encoding=\"latin1\")\n",
    "# print(\"\\n info() data : \", df_describe.info())\n",
    "df_describe.to_csv(\"output_describe.csv\", index=False)  # index=False is valid here\n",
    "print(\"\\n descriptive data : \", df_describe.describe())"
   ]
  },
  {
   "cell_type": "markdown",
   "id": "76360a8c",
   "metadata": {},
   "source": [
    "##### Shapes and columns"
   ]
  },
  {
   "cell_type": "code",
   "execution_count": 28,
   "id": "37217465",
   "metadata": {},
   "outputs": [
    {
     "name": "stdout",
     "output_type": "stream",
     "text": [
      " shapes --> (2823, 25) \n",
      " and columns --> Index(['ORDERNUMBER', 'QUANTITYORDERED', 'PRICEEACH', 'ORDERLINENUMBER',\n",
      "       'SALES', 'ORDERDATE', 'STATUS', 'QTR_ID', 'MONTH_ID', 'YEAR_ID',\n",
      "       'PRODUCTLINE', 'MSRP', 'PRODUCTCODE', 'CUSTOMERNAME', 'PHONE',\n",
      "       'ADDRESSLINE1', 'ADDRESSLINE2', 'CITY', 'STATE', 'POSTALCODE',\n",
      "       'COUNTRY', 'TERRITORY', 'CONTACTLASTNAME', 'CONTACTFIRSTNAME',\n",
      "       'DEALSIZE'],\n",
      "      dtype='object')\n"
     ]
    }
   ],
   "source": [
    "df_shapes_columns = pd.read_csv(\"sales_data_sample.csv\", encoding=\"latin1\")\n",
    "print(f\" shapes --> {df_shapes_columns.shape} \\n and columns --> {df_shapes_columns.columns}\")\n"
   ]
  },
  {
   "cell_type": "markdown",
   "id": "3947ba07",
   "metadata": {},
   "source": [
    "##### Column selection, row filtering & combine conditions"
   ]
  },
  {
   "cell_type": "code",
   "execution_count": null,
   "id": "b2b18015",
   "metadata": {},
   "outputs": [
    {
     "name": "stdout",
     "output_type": "stream",
     "text": [
      "\n",
      " TERRITORY which is single column and it returns a series :\n",
      " 0           NY\n",
      "1          NaN\n",
      "2          NaN\n",
      "3           CA\n",
      "4           CA\n",
      "5           CA\n",
      "6          NaN\n",
      "7          NaN\n",
      "8           CA\n",
      "9          NaN\n",
      "10    Victoria\n",
      "11          NY\n",
      "12          NJ\n",
      "13          CT\n",
      "14         NaN\n",
      "Name: STATE, dtype: object\n",
      "\n",
      " selecting multiple columns :         STATUS STATE  COUNTRY\n",
      "0      Shipped    NY      USA\n",
      "1      Shipped   NaN   France\n",
      "2      Shipped   NaN   France\n",
      "3      Shipped    CA      USA\n",
      "4      Shipped    CA      USA\n",
      "...        ...   ...      ...\n",
      "2818   Shipped   NaN    Spain\n",
      "2819   Shipped   NaN  Finland\n",
      "2820  Resolved   NaN    Spain\n",
      "2821   Shipped   NaN   France\n",
      "2822   On Hold    MA      USA\n",
      "\n",
      "[2823 rows x 3 columns]\n"
     ]
    }
   ],
   "source": [
    "df_columns = pd.read_csv(\"sales_data_sample.csv\", encoding=\"latin1\")\n",
    "# print(df_columns.columns)\n",
    "print(\"\\n TERRITORY which is single column and it returns a series :\\n\",df_columns[\"STATE\"].head(15))\n",
    "\n",
    "# selecting multiple columns\n",
    "subset = df_columns[[\"STATUS\",\"STATE\",\"COUNTRY\"]]\n",
    "print(\"\\n selecting multiple columns :\" ,subset)\n"
   ]
  },
  {
   "cell_type": "markdown",
   "id": "b2bacdac",
   "metadata": {},
   "source": [
    "##### Filtering row based on conditions (AND --> & ), (OR -->| )"
   ]
  },
  {
   "cell_type": "code",
   "execution_count": 60,
   "id": "adf31da3",
   "metadata": {},
   "outputs": [
    {
     "name": "stdout",
     "output_type": "stream",
     "text": [
      "\n",
      " COUNTRY  & STATUS : \n",
      "       ORDERNUMBER  QUANTITYORDERED  PRICEEACH  ORDERLINENUMBER     SALES  \\\n",
      "550         10407               59     100.00               11   7048.14   \n",
      "598         10407               76     100.00                2  14082.80   \n",
      "1714        10407               76      94.50                6   7182.00   \n",
      "2586        10401               85      88.75               10   7543.75   \n",
      "2689        10401               77      92.00                9   7084.00   \n",
      "\n",
      "           ORDERDATE   STATUS  QTR_ID  MONTH_ID  YEAR_ID  ...    ADDRESSLINE1  \\\n",
      "550   4/22/2005 0:00  On Hold       2         4     2005  ...  3086 Ingle Ln.   \n",
      "598   4/22/2005 0:00  On Hold       2         4     2005  ...  3086 Ingle Ln.   \n",
      "1714  4/22/2005 0:00  On Hold       2         4     2005  ...  3086 Ingle Ln.   \n",
      "2586   4/3/2005 0:00  On Hold       2         4     2005  ...   7476 Moss Rd.   \n",
      "2689   4/3/2005 0:00  On Hold       2         4     2005  ...   7476 Moss Rd.   \n",
      "\n",
      "      ADDRESSLINE2      CITY STATE POSTALCODE COUNTRY TERRITORY  \\\n",
      "550            NaN  San Jose    CA      94217     USA       NaN   \n",
      "598            NaN  San Jose    CA      94217     USA       NaN   \n",
      "1714           NaN  San Jose    CA      94217     USA       NaN   \n",
      "2586           NaN    Newark    NJ      94019     USA       NaN   \n",
      "2689           NaN    Newark    NJ      94019     USA       NaN   \n",
      "\n",
      "     CONTACTLASTNAME CONTACTFIRSTNAME DEALSIZE  \n",
      "550            Frick              Sue    Large  \n",
      "598            Frick              Sue    Large  \n",
      "1714           Frick              Sue    Large  \n",
      "2586           Brown          William    Large  \n",
      "2689           Brown          William    Large  \n",
      "\n",
      "[5 rows x 25 columns]\n"
     ]
    }
   ],
   "source": [
    "df_columns = pd.read_csv(\"sales_data_sample.csv\", encoding=\"latin1\")\n",
    "# print(df_columns.columns)\n",
    "# print(\"\\n TERRITORY which is single column and it returns a series :\\n\",df_columns[\"STATE\"].head(15))\n",
    "\n",
    "# df_country = df_columns[df_columns[\"COUNTRY\"] == \"France\"].head(10)\n",
    "# print(\"\\n COUNTRY : \\n\",df_country)\n",
    "\n",
    "\n",
    "# multiple conditions\n",
    "df_multi = df_columns[(df_columns[\"COUNTRY\"] == \"USA\") & (df_columns[\"STATUS\"] == \"On Hold\") & (df_columns[\"DEALSIZE\"] == \"Large\")]\n",
    "print(\"\\n COUNTRY  & STATUS : \\n\",df_multi)"
   ]
  }
 ],
 "metadata": {
  "kernelspec": {
   "display_name": ".venv",
   "language": "python",
   "name": "python3"
  },
  "language_info": {
   "codemirror_mode": {
    "name": "ipython",
    "version": 3
   },
   "file_extension": ".py",
   "mimetype": "text/x-python",
   "name": "python",
   "nbconvert_exporter": "python",
   "pygments_lexer": "ipython3",
   "version": "3.13.2"
  }
 },
 "nbformat": 4,
 "nbformat_minor": 5
}
