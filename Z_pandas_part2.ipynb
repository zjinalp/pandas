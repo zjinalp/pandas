{
 "cells": [
  {
   "cell_type": "code",
   "execution_count": 1,
   "id": "19fb80a7",
   "metadata": {},
   "outputs": [
    {
     "data": {
      "text/plain": [
       "<module 'xlrd' from 'c:\\\\Users\\\\JINAL\\\\OneDrive\\\\Desktop\\\\pandas\\\\.venv\\\\Lib\\\\site-packages\\\\xlrd\\\\__init__.py'>"
      ]
     },
     "execution_count": 1,
     "metadata": {},
     "output_type": "execute_result"
    }
   ],
   "source": [
    "import numpy as np\n",
    "import pandas as pd\n",
    "import matplotlib.pyplot as plt\n",
    "import importlib\n",
    "from numpy import nan\n",
    "importlib.import_module('xlrd')"
   ]
  },
  {
   "cell_type": "markdown",
   "id": "264921bb",
   "metadata": {},
   "source": [
    "### Modify DATA"
   ]
  },
  {
   "cell_type": "code",
   "execution_count": 3,
   "id": "9e36b0b3",
   "metadata": {},
   "outputs": [
    {
     "name": "stdout",
     "output_type": "stream",
     "text": [
      "     name  Age       City\n",
      "0   Jinal   23  Ahmedabad\n",
      "1  Dhruvi   21  Ahmedabad\n",
      "2   NIsha   23  Ahmedabad\n",
      "3   Rudra   17  Ahmedabad\n"
     ]
    }
   ],
   "source": [
    "data = {\n",
    "    \"name\" : [\"Jinal\", \"Dhruvi\",\"NIsha\", \"Rudra\"],\n",
    "    \"Age\"  : [23,21,23,17],\n",
    "    \"City\" : [\"Ahmedabad\",\"Ahmedabad\",\"Ahmedabad\",\"Ahmedabad\"]\n",
    "}\n",
    "\n",
    "df_data = pd.DataFrame(data)\n",
    "print(df_data)"
   ]
  },
  {
   "cell_type": "markdown",
   "id": "789d9f65",
   "metadata": {},
   "source": [
    "##### Modify through square brackets [ ]\n",
    "df.rename(columns={'old_name': 'new_name'}, inplace=True)"
   ]
  },
  {
   "cell_type": "code",
   "execution_count": null,
   "id": "d54a62f1",
   "metadata": {},
   "outputs": [
    {
     "name": "stdout",
     "output_type": "stream",
     "text": [
      "     name  Age       City  salary    bonus\n",
      "0   Jinal   23  Ahmedabad   70000   7000.0\n",
      "1  Dhruvi   21  Ahmedabad  750000  75000.0\n",
      "2   NIsha   23  Ahmedabad   80000   8000.0\n",
      "3   Rudra   17  Ahmedabad   85000   8500.0\n",
      "     name  Age       City  salary    bonus\n",
      "0   Jinal   23  Ahmedabad   70000   7000.0\n",
      "1  Dhruvi   21  Ahmedabad  750000  75000.0\n",
      "2   NIsha   23  Ahmedabad   80000   8000.0\n",
      "3   Rudra   17  Ahmedabad   85000   8500.0\n"
     ]
    }
   ],
   "source": [
    "df_data[\"salary\"] = [70000,750000,80000,85000]\n",
    "print(df_data)\n",
    "\n",
    "# through some calculation\n",
    "df_data[\"bonus\"] = df_data[\"salary\"] * (0.1)\n",
    "print(df_data)"
   ]
  },
  {
   "cell_type": "markdown",
   "id": "07e2c398",
   "metadata": {},
   "source": [
    "##### Modify through insert()--> we can add at precise location --> add data"
   ]
  },
  {
   "cell_type": "code",
   "execution_count": 7,
   "id": "b5c456fb",
   "metadata": {},
   "outputs": [
    {
     "name": "stdout",
     "output_type": "stream",
     "text": [
      "     id    name  Age       City  salary    bonus\n",
      "0  2001   Jinal   23  Ahmedabad   70000   7000.0\n",
      "1  2002  Dhruvi   21  Ahmedabad  750000  75000.0\n",
      "2  2003   NIsha   23  Ahmedabad   80000   8000.0\n",
      "3  2004   Rudra   17  Ahmedabad   85000   8500.0\n"
     ]
    }
   ],
   "source": [
    "# df_data.insert(index or location, \"column_name\", data array or some data)\n",
    "df_data.insert(0,\"id\",[2001,2002,2003,2004])\n",
    "print(df_data)"
   ]
  },
  {
   "cell_type": "markdown",
   "id": "7ab643d5",
   "metadata": {},
   "source": [
    "##### Updating data --> .loc[]"
   ]
  },
  {
   "cell_type": "code",
   "execution_count": 10,
   "id": "a4abcfc5",
   "metadata": {},
   "outputs": [
    {
     "name": "stdout",
     "output_type": "stream",
     "text": [
      "     id    name  Age       City  salary    bonus\n",
      "0  2001   Jinal   23  Ahmedabad   75000   7000.0\n",
      "1  2002  Dhruvi   21  Ahmedabad   75000  75000.0\n",
      "2  2003   NIsha   23  Ahmedabad   80000   8000.0\n",
      "3  2004   Rudra   17  Ahmedabad   85000   8500.0\n"
     ]
    }
   ],
   "source": [
    "df_data.loc[0,\"salary\"] = 75000\n",
    "print(df_data)"
   ]
  },
  {
   "cell_type": "markdown",
   "id": "095210ad",
   "metadata": {},
   "source": [
    "##### Updating multiple values "
   ]
  },
  {
   "cell_type": "code",
   "execution_count": 11,
   "id": "200c39af",
   "metadata": {},
   "outputs": [
    {
     "name": "stdout",
     "output_type": "stream",
     "text": [
      "     id    name  Age       City   salary    bonus\n",
      "0  2001   Jinal   23  Ahmedabad  11250.0   7000.0\n",
      "1  2002  Dhruvi   21  Ahmedabad  11250.0  75000.0\n",
      "2  2003   NIsha   23  Ahmedabad  12000.0   8000.0\n",
      "3  2004   Rudra   17  Ahmedabad  12750.0   8500.0\n"
     ]
    }
   ],
   "source": [
    "# increasing salary by 15 %\n",
    "df_data[\"salary\"] = df_data[\"salary\"] * (0.15)\n",
    "print(df_data)"
   ]
  },
  {
   "cell_type": "markdown",
   "id": "d3205b5f",
   "metadata": {},
   "source": [
    "##### Removing columns --> drop() method"
   ]
  },
  {
   "cell_type": "code",
   "execution_count": 15,
   "id": "043b248c",
   "metadata": {},
   "outputs": [
    {
     "name": "stdout",
     "output_type": "stream",
     "text": [
      "Modified Data :       id    name  Age   salary    bonus\n",
      "0  2001   Jinal   23  11250.0   7000.0\n",
      "1  2002  Dhruvi   21  11250.0  75000.0\n",
      "2  2003   NIsha   23  12000.0   8000.0\n",
      "3  2004   Rudra   17  12750.0   8500.0\n"
     ]
    }
   ],
   "source": [
    "\n",
    "# df_data[\"City\"]= [\"Ah\",\"Ah\",\"Ah\",\"Ah\"]\n",
    "# print(df_data)\n",
    "\n",
    "\n",
    "df_data.drop(columns=[\"City\"], inplace=True)\n",
    "#  To delete multiple columns --> add other column names here columns=[\"City\",\"Age\"] like this\n",
    "print(\"Modified Data : \", df_data)"
   ]
  },
  {
   "cell_type": "markdown",
   "id": "96c6ec0e",
   "metadata": {},
   "source": [
    "#### Handling missing values --> None,NaN "
   ]
  },
  {
   "cell_type": "code",
   "execution_count": 16,
   "id": "46294fa0",
   "metadata": {},
   "outputs": [
    {
     "name": "stdout",
     "output_type": "stream",
     "text": [
      "     id    name  Age   salary    bonus City\n",
      "0  2001   Jinal   23  11250.0   7000.0   Ah\n",
      "1  2002  Dhruvi   21  11250.0  75000.0   Ah\n",
      "2  2003   NIsha   23  12000.0   8000.0   Ah\n",
      "3  2004   Rudra   17  12750.0   8500.0   Ah\n"
     ]
    }
   ],
   "source": [
    "df_data[\"City\"]= [\"Ah\",\"Ah\",\"Ah\",\"Ah\"]\n",
    "print(df_data)"
   ]
  },
  {
   "cell_type": "markdown",
   "id": "39a824d7",
   "metadata": {},
   "source": [
    "##### isnull method through"
   ]
  },
  {
   "cell_type": "code",
   "execution_count": 17,
   "id": "b9a2830f",
   "metadata": {},
   "outputs": [
    {
     "name": "stdout",
     "output_type": "stream",
     "text": [
      "     id    name  Age   salary    bonus City\n",
      "0  2001   Jinal   23  11250.0   7000.0   Ah\n",
      "1  2002  Dhruvi   21  11250.0  75000.0   Ah\n",
      "2  2003   NIsha   23  12000.0   8000.0   Ah\n",
      "3  2004   Rudra   17  12750.0   8500.0   Ah\n"
     ]
    }
   ],
   "source": [
    "print(df_data)"
   ]
  },
  {
   "cell_type": "markdown",
   "id": "e15018dc",
   "metadata": {},
   "source": [
    "##### Detect missing values"
   ]
  },
  {
   "cell_type": "code",
   "execution_count": 19,
   "id": "cc91977b",
   "metadata": {},
   "outputs": [
    {
     "name": "stdout",
     "output_type": "stream",
     "text": [
      "     name   Age       City\n",
      "0   Jinal  23.0       None\n",
      "1  Dhruvi  21.0  Ahmedabad\n",
      "2    None   NaN  Ahmedabad\n",
      "3   Rudra  17.0  Ahmedabad\n"
     ]
    }
   ],
   "source": [
    "data = {\n",
    "    \"name\" : [\"Jinal\", \"Dhruvi\",None, \"Rudra\"],\n",
    "    \"Age\"  : [23,21,None,17],\n",
    "    \"City\" : [None,\"Ahmedabad\",\"Ahmedabad\",\"Ahmedabad\"]\n",
    "}\n",
    "\n",
    "df_missing_data = pd.DataFrame(data)\n",
    "print(df_missing_data)"
   ]
  },
  {
   "cell_type": "code",
   "execution_count": 20,
   "id": "2e61fa5f",
   "metadata": {},
   "outputs": [
    {
     "name": "stdout",
     "output_type": "stream",
     "text": [
      "    name    Age   City\n",
      "0  False  False   True\n",
      "1  False  False  False\n",
      "2   True   True  False\n",
      "3  False  False  False\n"
     ]
    }
   ],
   "source": [
    "print(df_missing_data.isnull())"
   ]
  },
  {
   "cell_type": "markdown",
   "id": "a316df3a",
   "metadata": {},
   "source": [
    "##### Sum of missing values"
   ]
  },
  {
   "cell_type": "code",
   "execution_count": 21,
   "id": "1fcc1208",
   "metadata": {},
   "outputs": [
    {
     "name": "stdout",
     "output_type": "stream",
     "text": [
      "name    1\n",
      "Age     1\n",
      "City    1\n",
      "dtype: int64\n"
     ]
    }
   ],
   "source": [
    "print(df_missing_data.isnull().sum())"
   ]
  },
  {
   "cell_type": "markdown",
   "id": "f0a18062",
   "metadata": {},
   "source": [
    "##### How to handle missing values --> dropna(axis , inplace)"
   ]
  },
  {
   "cell_type": "code",
   "execution_count": 28,
   "id": "22ed0d27",
   "metadata": {},
   "outputs": [
    {
     "name": "stdout",
     "output_type": "stream",
     "text": [
      "     name   Age       City\n",
      "0   Jinal  23.0          0\n",
      "1  Dhruvi  21.0  Ahmedabad\n",
      "2       0   0.0  Ahmedabad\n",
      "3   Rudra  17.0  Ahmedabad\n"
     ]
    }
   ],
   "source": [
    "# it will remove all null values with their corrosponding rows and columns\n",
    "print(df_missing_data.dropna())\n"
   ]
  },
  {
   "cell_type": "markdown",
   "id": "22151bb3",
   "metadata": {},
   "source": [
    "##### Fill missing values by fillna(value you want to pass, inplace=True) "
   ]
  },
  {
   "cell_type": "code",
   "execution_count": 58,
   "id": "9b146259",
   "metadata": {},
   "outputs": [
    {
     "name": "stdout",
     "output_type": "stream",
     "text": [
      "     name   Age       City\n",
      "0   Jinal  23.0         ch\n",
      "1  Dhruvi  21.0  Ahmedabad\n",
      "2   Nisha   NaN  Ahmedabad\n",
      "3   Rudra  17.0  Ahmedabad\n"
     ]
    }
   ],
   "source": [
    "# from numpy import nan\n",
    "\n",
    "\n",
    "data = {\n",
    "    \"name\" : [\"Jinal\", \"Dhruvi\",\"Nisha\", \"Rudra\"],\n",
    "    \"Age\"  : [23,21,nan,17],\n",
    "    \"City\" : [\"ch\",\"Ahmedabad\",\"Ahmedabad\",\"Ahmedabad\"]\n",
    "}\n",
    "\n",
    "df_missing_data = pd.DataFrame(data)\n",
    "print(df_missing_data)\n"
   ]
  },
  {
   "cell_type": "markdown",
   "id": "80abf347",
   "metadata": {},
   "source": [
    "##### Fill calculated value --> directly"
   ]
  },
  {
   "cell_type": "code",
   "execution_count": 65,
   "id": "2132922e",
   "metadata": {},
   "outputs": [
    {
     "name": "stdout",
     "output_type": "stream",
     "text": [
      "     name        Age       City\n",
      "0   Jinal  23.000000         ch\n",
      "1  Dhruvi  21.000000  Ahmedabad\n",
      "2   Nisha  20.333333  Ahmedabad\n",
      "3   Rudra  17.000000  Ahmedabad\n"
     ]
    },
    {
     "name": "stderr",
     "output_type": "stream",
     "text": [
      "C:\\Users\\JINAL\\AppData\\Local\\Temp\\ipykernel_22100\\3082959171.py:9: FutureWarning: A value is trying to be set on a copy of a DataFrame or Series through chained assignment using an inplace method.\n",
      "The behavior will change in pandas 3.0. This inplace method will never work because the intermediate object on which we are setting values always behaves as a copy.\n",
      "\n",
      "For example, when doing 'df[col].method(value, inplace=True)', try using 'df.method({col: value}, inplace=True)' or df[col] = df[col].method(value) instead, to perform the operation inplace on the original object.\n",
      "\n",
      "\n",
      "  df_missing_data['Age'].fillna(df_missing_data['Age'].mean(), inplace=True)\n"
     ]
    }
   ],
   "source": [
    "# pandas understands 0 as real number so to \n",
    "# get the mean value i have to comment it \n",
    "# otherwise you have to replace it with \n",
    "# numpy nan and then fill it.\n",
    "# ----------------------------------------------------------------------------\n",
    "# df_missing_data.fillna(0,inplace=True)\n",
    "# print(df_missing_data)\n",
    "# ----------------------------------------------------------------------------\n",
    "df_missing_data['Age'].fillna(df_missing_data['Age'].mean(), inplace=True)\n",
    "print(df_missing_data)"
   ]
  },
  {
   "cell_type": "markdown",
   "id": "979da198",
   "metadata": {},
   "source": [
    "##### Fill calculated value --> after replace or with numpy nan "
   ]
  },
  {
   "cell_type": "code",
   "execution_count": null,
   "id": "6805533b",
   "metadata": {},
   "outputs": [
    {
     "name": "stdout",
     "output_type": "stream",
     "text": [
      "     name        Age       City\n",
      "0   Jinal  23.000000         ch\n",
      "1  Dhruvi  21.000000  Ahmedabad\n",
      "2   Nisha  20.333333  Ahmedabad\n",
      "3   Rudra  17.000000  Ahmedabad\n",
      "     name        Age       City\n",
      "0   Jinal  23.000000         ch\n",
      "1  Dhruvi  21.000000  Ahmedabad\n",
      "2   Nisha  20.333333  Ahmedabad\n",
      "3   Rudra  17.000000  Ahmedabad\n"
     ]
    },
    {
     "name": "stderr",
     "output_type": "stream",
     "text": [
      "C:\\Users\\JINAL\\AppData\\Local\\Temp\\ipykernel_22100\\3311392390.py:1: FutureWarning: A value is trying to be set on a copy of a DataFrame or Series through chained assignment using an inplace method.\n",
      "The behavior will change in pandas 3.0. This inplace method will never work because the intermediate object on which we are setting values always behaves as a copy.\n",
      "\n",
      "For example, when doing 'df[col].method(value, inplace=True)', try using 'df.method({col: value}, inplace=True)' or df[col] = df[col].method(value) instead, to perform the operation inplace on the original object.\n",
      "\n",
      "\n",
      "  df_missing_data['Age'].fillna(df_missing_data['Age'].mean(), inplace=True)\n",
      "C:\\Users\\JINAL\\AppData\\Local\\Temp\\ipykernel_22100\\3311392390.py:6: FutureWarning: A value is trying to be set on a copy of a DataFrame or Series through chained assignment using an inplace method.\n",
      "The behavior will change in pandas 3.0. This inplace method will never work because the intermediate object on which we are setting values always behaves as a copy.\n",
      "\n",
      "For example, when doing 'df[col].method(value, inplace=True)', try using 'df.method({col: value}, inplace=True)' or df[col] = df[col].method(value) instead, to perform the operation inplace on the original object.\n",
      "\n",
      "\n",
      "  df_missing_data['Age'].replace(0, np.nan, inplace=True)\n"
     ]
    }
   ],
   "source": [
    "df_missing_data['Age'].fillna(df_missing_data['Age'].mean(), inplace=True)\n",
    "print(df_missing_data)\n",
    "# This line is only filling actual NaN values. \n",
    "# But in your DataFrame, it looks like the \"missing\" age is: 2   Nisha   0.0\n",
    "# o pandas sees 0.0 as a real number — not missing.\n",
    "\n",
    "# Replace 0 with NaN\n",
    "df_missing_data['Age'].replace(0, np.nan, inplace=True)\n",
    "\n",
    "# Now fill NaN with mean\n",
    "df_missing_data['Age'] = df_missing_data['Age'].fillna(df_missing_data['Age'].mean())\n",
    "\n",
    "# Print the result\n",
    "print(df_missing_data)\n"
   ]
  },
  {
   "cell_type": "markdown",
   "id": "378d5ced",
   "metadata": {},
   "source": [
    "##### Interpolation"
   ]
  },
  {
   "cell_type": "code",
   "execution_count": null,
   "id": "3bb55399",
   "metadata": {},
   "outputs": [
    {
     "name": "stdout",
     "output_type": "stream",
     "text": [
      "     name   Age       City\n",
      "0   Jinal  23.0         ch\n",
      "1  Dhruvi  21.0  Ahmedabad\n",
      "2   Nisha   NaN  Ahmedabad\n",
      "3   Rudra  17.0  Ahmedabad\n",
      "4   Dhruv  19.0  Ahmedabad\n",
      "5    Nish   NaN  Ahmedabad\n",
      "6    Riya  24.0  Ahmedabad\n",
      "     name   Age       City\n",
      "0   Jinal  23.0         ch\n",
      "1  Dhruvi  21.0  Ahmedabad\n",
      "2   Nisha  19.0  Ahmedabad\n",
      "3   Rudra  17.0  Ahmedabad\n",
      "4   Dhruv  19.0  Ahmedabad\n",
      "5    Nish  21.5  Ahmedabad\n",
      "6    Riya  24.0  Ahmedabad\n"
     ]
    }
   ],
   "source": [
    "d = {\n",
    "    \"name\" : [\"Jinal\", \"Dhruvi\",\"Nisha\", \"Rudra\",\"Dhruv\",\"Nish\", \"Riya\"],\n",
    "    \"Age\"  : [23,21,None,17,19,None,24],\n",
    "    \"City\" : [\"ch\",\"Ahmedabad\",\"Ahmedabad\",\"Ahmedabad\",\"Ahmedabad\",\"Ahmedabad\",\"Ahmedabad\"]\n",
    "}\n",
    "\n",
    "df = pd.DataFrame(d)\n",
    "print(df)\n",
    "\n",
    "# linear method\n",
    "# df.interpolate(method=\"linear\",axis=0,inplace=True)\n",
    "df[\"Age\"] = df[\"Age\"].interpolate(method=\"linear\")\n",
    "print(df)\n",
    "\n"
   ]
  },
  {
   "cell_type": "markdown",
   "id": "d7933df6",
   "metadata": {},
   "source": [
    "#####\n",
    "🧠 Concept:\n",
    "Suppose you have a DataFrame like:\n",
    "\n",
    "Index\tAge\n",
    "0\t20.0\n",
    "1\tNaN\n",
    "2\tNaN\n",
    "3\t26.0\n",
    "You want to fill in the missing values (index 1 and 2) based on a straight line between 20 and 26.\n",
    "\n",
    "📐 Step-by-Step Linear Interpolation:\n",
    "Start value (index 0): 20.0\n",
    "End value (index 3): 26.0\n",
    "You are missing values at index 1 and 2 → two gaps = 3 total points (0, 1, 2, 3)\n",
    "\n",
    "Interpolation formula:\n",
    "For a missing index i between x₀ and x₁:\n",
    "\n",
    "𝑦𝑖 = 𝑦0 + ((𝑦1−𝑦0)/(𝑥1−𝑥0)) × (i−x0)\n",
    "\n",
    "🔢 Applying it:\n",
    "Between index 0 (20.0) and index 3 (26.0)\n",
    "\n",
    "Slope = (26 - 20) / (3 - 0) = 6 / 3 = 2\n",
    "\n",
    "Then:\n",
    "Index 1 → 20 + 2 × 1 = 22.0\n",
    "Index 2 → 20 + 2 × 2 = 24.0\n",
    "\n",
    "So the final result:\n",
    "\n",
    "Index\tAge\n",
    "0\t20.0\n",
    "1\t22.0\n",
    "2\t24.0\n",
    "3\t26.0"
   ]
  },
  {
   "cell_type": "markdown",
   "id": "8e53c3d7",
   "metadata": {},
   "source": [
    "#### Selecting and filtering DATA"
   ]
  },
  {
   "cell_type": "markdown",
   "id": "f6a5abe6",
   "metadata": {},
   "source": [
    "##### sorting through sort_values() --> 1column"
   ]
  },
  {
   "cell_type": "code",
   "execution_count": 14,
   "id": "bc5cf4e3",
   "metadata": {},
   "outputs": [
    {
     "name": "stdout",
     "output_type": "stream",
     "text": [
      "{'Name': ['Jinal', 'kanisha', 'Tiku', 'Nisha', 'Rudra'], 'Salary': [85000, 99000, 90000, 96000, 97000], 'EmpID': [2005, 2004, 2007, 2006, 2008]}\n"
     ]
    }
   ],
   "source": [
    "a = {\n",
    "    \"Name\" : [\"Jinal\",\"kanisha\", \"Tiku\", \"Nisha\",\"Rudra\"],\n",
    "    \"Salary\" : [85000,99000,90000,96000,97000],\n",
    "    \"EmpID\" : [2005,2004,2007,2006,2008]\n",
    "}\n",
    "\n",
    "df_sorting = pd.DataFrame(a)\n",
    "print(a)"
   ]
  },
  {
   "cell_type": "code",
   "execution_count": 18,
   "id": "6434bf83",
   "metadata": {},
   "outputs": [
    {
     "name": "stdout",
     "output_type": "stream",
     "text": [
      "      Name  Salary  EmpID\n",
      "1  kanisha   99000   2004\n",
      "0    Jinal   85000   2005\n",
      "3    Nisha   96000   2006\n",
      "2     Tiku   90000   2007\n",
      "4    Rudra   97000   2008\n"
     ]
    }
   ],
   "source": [
    "df_sorting.sort_values(by = \"EmpID\", ascending=True, inplace=True)\n",
    "\n",
    "print(df_sorting)"
   ]
  },
  {
   "cell_type": "markdown",
   "id": "f06bb9a7",
   "metadata": {},
   "source": [
    "##### Sorting multiple columns"
   ]
  },
  {
   "cell_type": "code",
   "execution_count": 19,
   "id": "a90e8006",
   "metadata": {},
   "outputs": [
    {
     "name": "stdout",
     "output_type": "stream",
     "text": [
      "      Name  Salary  EmpID\n",
      "1  kanisha   99000   2004\n",
      "0    Jinal   85000   2005\n",
      "3    Nisha   96000   2006\n",
      "2     Tiku   90000   2007\n",
      "4    Rudra   97000   2008\n"
     ]
    }
   ],
   "source": [
    "df_sorting.sort_values(by = [\"EmpID\",\"Salary\"], ascending=[True,False])\n",
    "print(df_sorting)"
   ]
  },
  {
   "cell_type": "markdown",
   "id": "8ec35cd3",
   "metadata": {},
   "source": [
    "##### Filter/ Aggregation on Data"
   ]
  },
  {
   "cell_type": "code",
   "execution_count": 23,
   "id": "374dc237",
   "metadata": {},
   "outputs": [
    {
     "name": "stdout",
     "output_type": "stream",
     "text": [
      "avg_salary :  93400.0\n",
      "min_salary :  85000\n",
      "max_salary :  99000\n",
      "sum_salary :  467000\n"
     ]
    }
   ],
   "source": [
    "avg_salary = df_sorting[\"Salary\"].mean()\n",
    "print(\"avg_salary : \",avg_salary)\n",
    "\n",
    "min_salary = df_sorting[\"Salary\"].min()\n",
    "print(\"min_salary : \",min_salary)\n",
    "\n",
    "max_salary = df_sorting[\"Salary\"].max()\n",
    "print(\"max_salary : \",max_salary)\n",
    "\n",
    "sum_salary = df_sorting[\"Salary\"].sum()\n",
    "print(\"sum_salary : \",sum_salary)\n",
    "\n"
   ]
  },
  {
   "cell_type": "markdown",
   "id": "5408f078",
   "metadata": {},
   "source": [
    "##### Grouping data"
   ]
  },
  {
   "cell_type": "code",
   "execution_count": 24,
   "id": "d7c28f9c",
   "metadata": {},
   "outputs": [
    {
     "name": "stdout",
     "output_type": "stream",
     "text": [
      "{'Name': ['Jinal', 'kanisha', 'Tiku', 'Nisha', 'Rudra'], 'Salary': [85000, 99000, 90000, 96000, 97000], 'EmpID': [2005, 2004, 2007, 2006, 2008]}\n"
     ]
    }
   ],
   "source": [
    "b = {\n",
    "    \"Name\" : [\"Jinal\",\"kanisha\", \"Tiku\", \"Nisha\",\"Rudra\"],\n",
    "    \"Salary\" : [85000,99000,90000,96000,97000],\n",
    "    \"EmpID\" : [2005,2004,2007,2006,2008]\n",
    "}\n",
    "\n",
    "df_grp = pd.DataFrame(b)\n",
    "print(b)"
   ]
  },
  {
   "cell_type": "code",
   "execution_count": 25,
   "id": "a50a42ad",
   "metadata": {},
   "outputs": [
    {
     "name": "stdout",
     "output_type": "stream",
     "text": [
      "      Name  Salary  age  EmpID\n",
      "0    Jinal   85000   23   2005\n",
      "1  kanisha   99000   24   2004\n",
      "2     Tiku   90000   21   2007\n",
      "3    Nisha   96000   23   2006\n",
      "4    Rudra   97000   18   2008\n"
     ]
    }
   ],
   "source": [
    "df_grp.insert(2,\"age\",[23,24,21,23,18])\n",
    "print(df_grp)"
   ]
  },
  {
   "cell_type": "code",
   "execution_count": 26,
   "id": "1910256f",
   "metadata": {},
   "outputs": [
    {
     "name": "stdout",
     "output_type": "stream",
     "text": [
      "age\n",
      "18     97000\n",
      "21     90000\n",
      "23    181000\n",
      "24     99000\n",
      "Name: Salary, dtype: int64\n"
     ]
    }
   ],
   "source": [
    "grp = df_grp.groupby(\"age\")[\"Salary\"].sum()\n",
    "print(grp)"
   ]
  },
  {
   "cell_type": "markdown",
   "id": "ec71d141",
   "metadata": {},
   "source": [
    "##### Multiple columns grouping"
   ]
  },
  {
   "cell_type": "code",
   "execution_count": 27,
   "id": "84fdd248",
   "metadata": {},
   "outputs": [
    {
     "name": "stdout",
     "output_type": "stream",
     "text": [
      "age  Name   \n",
      "18   Rudra      97000\n",
      "21   Tiku       90000\n",
      "23   Jinal      85000\n",
      "     Nisha      96000\n",
      "24   kanisha    99000\n",
      "Name: Salary, dtype: int64\n"
     ]
    }
   ],
   "source": [
    "grp_multi = df_grp.groupby([\"age\",\"Name\"])[\"Salary\"].sum()\n",
    "print(grp_multi)"
   ]
  },
  {
   "cell_type": "markdown",
   "id": "8320766f",
   "metadata": {},
   "source": [
    "#### Merging and Joining --> "
   ]
  },
  {
   "cell_type": "code",
   "execution_count": 35,
   "id": "1dbaf967",
   "metadata": {},
   "outputs": [
    {
     "name": "stdout",
     "output_type": "stream",
     "text": [
      "   C_ID     Name  OrderAmount\n",
      "0     1    Nisha          450\n",
      "1     2  Kanisha          550\n",
      "   C_ID     Name  OrderAmount\n",
      "0     1    Nisha        450.0\n",
      "1     2  Kanisha        550.0\n",
      "2     3   Amisha          NaN\n",
      "3     4      NaN        750.0\n",
      "   C_ID     Name  OrderAmount\n",
      "0     1    Nisha        450.0\n",
      "1     2  Kanisha        550.0\n",
      "2     3   Amisha          NaN\n",
      "   C_ID     Name  OrderAmount\n",
      "0     1    Nisha          450\n",
      "1     2  Kanisha          550\n",
      "2     4      NaN          750\n"
     ]
    }
   ],
   "source": [
    "# customer dataframe\n",
    "\n",
    "df_cust = pd.DataFrame({\n",
    "    \"C_ID\" :[1,2,3],\n",
    "    \"Name\" : [\"Nisha\",\"Kanisha\",\"Amisha\"]\n",
    "})\n",
    "\n",
    "# order dataframe\n",
    "df_order = pd.DataFrame({\n",
    "    \"C_ID\" :[1,2,4],\n",
    "    \"OrderAmount\" : [450,550,750]\n",
    "})\n",
    "# only matched keys data will be displayed \n",
    "df_merged = pd.merge(df_cust,df_order, on = \"C_ID\",how=\"inner\")\n",
    "print(df_merged)\n",
    "\n",
    "# # all data will be displayed\n",
    "df_merged = pd.merge(df_cust,df_order, on = \"C_ID\",how=\"outer\")\n",
    "print(df_merged)\n",
    "\n",
    "# # all data will be displayed\n",
    "df_merged = pd.merge(df_cust,df_order, on = \"C_ID\",how=\"left\")\n",
    "print(df_merged)\n",
    "\n",
    "# # all data will be displayed\n",
    "df_merged = pd.merge(df_cust,df_order, on = \"C_ID\",how=\"right\")\n",
    "print(df_merged)\n",
    "\n",
    "\n"
   ]
  },
  {
   "cell_type": "markdown",
   "id": "c8a1e042",
   "metadata": {},
   "source": [
    "#### Concatenation of dataframes -->join --> vertically or horizontally"
   ]
  },
  {
   "cell_type": "code",
   "execution_count": 40,
   "id": "e65814ad",
   "metadata": {},
   "outputs": [
    {
     "name": "stdout",
     "output_type": "stream",
     "text": [
      "\n",
      " concatenate horizontally \n",
      "    0        1  2       3\n",
      "0  1    Nisha  4   Jinal\n",
      "1  2  Kanisha  5  Bhakti\n",
      "2  3   Amisha  6  Dhruvi\n"
     ]
    }
   ],
   "source": [
    "# region 1 dataframe\n",
    "\n",
    "df_r1 = pd.DataFrame({\n",
    "    \"C_ID\" :[1,2,3],\n",
    "    \"Name\" : [\"Nisha\",\"Kanisha\",\"Amisha\"]\n",
    "})\n",
    "\n",
    "# region 2 dataframe\n",
    "df_r2 = pd.DataFrame({\n",
    "    \"C_ID\" :[4,5,6],\n",
    "    \"Name\" : [\"Jinal\",\"Bhakti\",\"Dhruvi\"]\n",
    "})\n",
    "\n",
    "# \"concatenate vertically\"\n",
    "# df_concat = pd.concat([df_r1,df_r2], axis = 0, ignore_index= True)\n",
    "# print(\"\\n concatenate vertically \\n\",df_concat)\n",
    "\n",
    "# concatenate horizontally\n",
    "df_concat = pd.concat([df_r1,df_r2], axis = 1, ignore_index= True)\n",
    "print(\"\\n concatenate horizontally \\n\",df_concat)\n",
    "\n"
   ]
  }
 ],
 "metadata": {
  "kernelspec": {
   "display_name": ".venv",
   "language": "python",
   "name": "python3"
  },
  "language_info": {
   "codemirror_mode": {
    "name": "ipython",
    "version": 3
   },
   "file_extension": ".py",
   "mimetype": "text/x-python",
   "name": "python",
   "nbconvert_exporter": "python",
   "pygments_lexer": "ipython3",
   "version": "3.13.2"
  }
 },
 "nbformat": 4,
 "nbformat_minor": 5
}
