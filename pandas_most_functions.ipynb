{
 "cells": [
  {
   "cell_type": "markdown",
   "id": "01d53a85",
   "metadata": {},
   "source": [
    "### Pandas must known 10 function"
   ]
  },
  {
   "cell_type": "code",
   "execution_count": 1,
   "id": "cb257ca3",
   "metadata": {},
   "outputs": [],
   "source": [
    "import numpy as np\n",
    "import pandas as pd"
   ]
  },
  {
   "cell_type": "code",
   "execution_count": 3,
   "id": "84137cfe",
   "metadata": {},
   "outputs": [
    {
     "data": {
      "text/html": [
       "<div>\n",
       "<style scoped>\n",
       "    .dataframe tbody tr th:only-of-type {\n",
       "        vertical-align: middle;\n",
       "    }\n",
       "\n",
       "    .dataframe tbody tr th {\n",
       "        vertical-align: top;\n",
       "    }\n",
       "\n",
       "    .dataframe thead th {\n",
       "        text-align: right;\n",
       "    }\n",
       "</style>\n",
       "<table border=\"1\" class=\"dataframe\">\n",
       "  <thead>\n",
       "    <tr style=\"text-align: right;\">\n",
       "      <th></th>\n",
       "      <th>age</th>\n",
       "      <th>gender</th>\n",
       "      <th>score</th>\n",
       "    </tr>\n",
       "  </thead>\n",
       "  <tbody>\n",
       "    <tr>\n",
       "      <th>0</th>\n",
       "      <td>25</td>\n",
       "      <td>M</td>\n",
       "      <td>90</td>\n",
       "    </tr>\n",
       "    <tr>\n",
       "      <th>1</th>\n",
       "      <td>22</td>\n",
       "      <td>F</td>\n",
       "      <td>80</td>\n",
       "    </tr>\n",
       "    <tr>\n",
       "      <th>2</th>\n",
       "      <td>18</td>\n",
       "      <td>F</td>\n",
       "      <td>75</td>\n",
       "    </tr>\n",
       "    <tr>\n",
       "      <th>3</th>\n",
       "      <td>30</td>\n",
       "      <td>M</td>\n",
       "      <td>95</td>\n",
       "    </tr>\n",
       "    <tr>\n",
       "      <th>4</th>\n",
       "      <td>45</td>\n",
       "      <td>M</td>\n",
       "      <td>70</td>\n",
       "    </tr>\n",
       "    <tr>\n",
       "      <th>5</th>\n",
       "      <td>50</td>\n",
       "      <td>F</td>\n",
       "      <td>85</td>\n",
       "    </tr>\n",
       "    <tr>\n",
       "      <th>6</th>\n",
       "      <td>35</td>\n",
       "      <td>M</td>\n",
       "      <td>75</td>\n",
       "    </tr>\n",
       "    <tr>\n",
       "      <th>7</th>\n",
       "      <td>20</td>\n",
       "      <td>F</td>\n",
       "      <td>90</td>\n",
       "    </tr>\n",
       "    <tr>\n",
       "      <th>8</th>\n",
       "      <td>55</td>\n",
       "      <td>M</td>\n",
       "      <td>95</td>\n",
       "    </tr>\n",
       "    <tr>\n",
       "      <th>9</th>\n",
       "      <td>40</td>\n",
       "      <td>M</td>\n",
       "      <td>85</td>\n",
       "    </tr>\n",
       "  </tbody>\n",
       "</table>\n",
       "</div>"
      ],
      "text/plain": [
       "   age gender  score\n",
       "0   25      M     90\n",
       "1   22      F     80\n",
       "2   18      F     75\n",
       "3   30      M     95\n",
       "4   45      M     70\n",
       "5   50      F     85\n",
       "6   35      M     75\n",
       "7   20      F     90\n",
       "8   55      M     95\n",
       "9   40      M     85"
      ]
     },
     "execution_count": 3,
     "metadata": {},
     "output_type": "execute_result"
    }
   ],
   "source": [
    "data = {'age': [25, 22, 18, 30, 45, 50, 35, 20, 55, 40],\n",
    "        'gender': ['M', 'F', 'F', 'M', 'M', 'F', 'M', 'F', 'M', 'M'],\n",
    "        'score': [90, 80, 75, 95, 70, 85, 75, 90, 95, 85]}\n",
    "df = pd.DataFrame(data)\n",
    "df"
   ]
  },
  {
   "cell_type": "markdown",
   "id": "77d57239",
   "metadata": {},
   "source": [
    "#### 1. value_counts()\n",
    "###### The value_counts() method in Pandas is used to obtain a Series containing counts of unique values."
   ]
  },
  {
   "cell_type": "code",
   "execution_count": 4,
   "id": "4ec7f51b",
   "metadata": {},
   "outputs": [
    {
     "name": "stdout",
     "output_type": "stream",
     "text": [
      "gender\n",
      "M    6\n",
      "F    4\n",
      "Name: count, dtype: int64\n"
     ]
    }
   ],
   "source": [
    "print(df[\"gender\"].value_counts())"
   ]
  },
  {
   "cell_type": "code",
   "execution_count": 5,
   "id": "94fb9150",
   "metadata": {},
   "outputs": [
    {
     "name": "stdout",
     "output_type": "stream",
     "text": [
      "gender\n",
      "M    0.6\n",
      "F    0.4\n",
      "Name: proportion, dtype: float64\n"
     ]
    }
   ],
   "source": [
    "# normalize means related frequency of each value \n",
    "print(df[\"gender\"].value_counts(normalize=True))"
   ]
  },
  {
   "cell_type": "markdown",
   "id": "8b172d80",
   "metadata": {},
   "source": [
    "#### 2. where()\n",
    "###### The where() method in Pandas is used to replace values in a DataFrame or Series based on a condition. It acts like an if-then statement, where if the condition is true, the original value is kept; otherwise, it's replaced with a specified value"
   ]
  },
  {
   "cell_type": "code",
   "execution_count": 26,
   "id": "cead516b",
   "metadata": {},
   "outputs": [
    {
     "name": "stdout",
     "output_type": "stream",
     "text": [
      "where function : \n",
      "     age gender  score\n",
      "0   NaN    NaN    NaN\n",
      "1   NaN    NaN    NaN\n",
      "2   NaN    NaN    NaN\n",
      "3   NaN    NaN    NaN\n",
      "4  45.0      M   70.0\n",
      "5  50.0      F   85.0\n",
      "6  35.0      M   75.0\n",
      "7   NaN    NaN    NaN\n",
      "8  55.0      M   95.0\n",
      "9  40.0      M   85.0\n",
      "where function with other conditions : \n",
      "    age gender score\n",
      "0  <30    <30   <30\n",
      "1  <30    <30   <30\n",
      "2  <30    <30   <30\n",
      "3  <30    <30   <30\n",
      "4   45      M    70\n",
      "5   50      F    85\n",
      "6   35      M    75\n",
      "7  <30    <30   <30\n",
      "8   55      M    95\n",
      "9   40      M    85\n",
      "where function with other rows displays nothing  : \n",
      "    age gender  score\n",
      "4   45      M     70\n",
      "5   50      F     85\n",
      "6   35      M     75\n",
      "8   55      M     95\n",
      "9   40      M     85\n"
     ]
    }
   ],
   "source": [
    "print(\"where function : \\n\",\n",
    "      df.where(df[\"age\"] > 30))\n",
    "\n",
    "# we can set non - matching values to another value \n",
    "print(\"where function with other conditions : \\n\",\n",
    "      df.where(df[\"age\"] > 30, other=\"<30\"))\n",
    "\n",
    "print(\"where function with other rows displays nothing  : \\n\",\n",
    "      df[df.where(df['age']>30,other=0).all(1)])"
   ]
  },
  {
   "cell_type": "markdown",
   "id": "83950dee",
   "metadata": {},
   "source": [
    "#### 3. isin()\n",
    "###### The isin() method in Pandas is used to check if elements in a DataFrame or Series are present in a list-like object (list, Series, or another DataFrame). It returns a boolean DataFrame or Series of the same shape, indicating where the match is True and not match is False"
   ]
  },
  {
   "cell_type": "code",
   "execution_count": 37,
   "id": "20a5029f",
   "metadata": {},
   "outputs": [
    {
     "name": "stdout",
     "output_type": "stream",
     "text": [
      "   age gender  score\n",
      "0   25      M     90\n",
      "6   35      M     75\n"
     ]
    }
   ],
   "source": [
    "# isin() for single column\n",
    "# df[df[\"age\"].isin([25,35])]\n",
    "\n",
    "\n",
    "# isin() multiple columns\n",
    "print(df[df[[\"age\",\"gender\"]].isin({ \"age\" : [25,35], \"gender\" : [\"M\"]}).all(1)])"
   ]
  },
  {
   "cell_type": "markdown",
   "id": "feb41739",
   "metadata": {},
   "source": [
    "#### 4. cut() and qcut()\n",
    "###### cut():\n",
    "###### This function divides the data into bins of equal width. The user can specify the number of bins or the bin edges. If the number of bins is specified, pandas will calculate the bin edges automatically.\n",
    "###### qcut():\n",
    "###### This function divides the data into bins of equal frequency. The user specifies the number of bins, and pandas determines the bin edges such that each bin contains the same number of data points."
   ]
  },
  {
   "cell_type": "code",
   "execution_count": 46,
   "id": "3a11f364",
   "metadata": {},
   "outputs": [
    {
     "name": "stdout",
     "output_type": "stream",
     "text": [
      "   age gender  score score_bins\n",
      "0   25      M     90       high\n",
      "1   22      F     80        low\n",
      "2   18      F     75        low\n",
      "3   30      M     95  very high\n",
      "4   45      M     70   Very low\n",
      "5   50      F     85     medium\n",
      "6   35      M     75        low\n",
      "7   20      F     90       high\n",
      "8   55      M     95  very high\n",
      "9   40      M     85     medium\n"
     ]
    }
   ],
   "source": [
    "# df[\"score_bins\"] = pd.cut(df[\"score\"], bins = [60,70,80,90,100])\n",
    "# print(df)\n",
    "\n",
    "# print(\" in this (80,90] so ( ==> is exclusive and ] ==> is inclusive \")\n",
    "\n",
    "# labels for bins\n",
    "# score_labels = [\"Very low\", \"low\", \"Medium\",\"High\", \"Very High\"]\n",
    "# df[\"score_bins\"] = pd.cut(df[\"score\"], bins = [60,70,80,90,100], labels = score_labels)\n",
    "# print(df)\n",
    "\n",
    "\n",
    "bin_names = ['Very low','low','medium','high','very high']\n",
    "df['score_bins']=pd.cut(df['score'],bins=[60,70,80,85,90,100],labels=bin_names)\n",
    "\n",
    "print(df)"
   ]
  },
  {
   "cell_type": "code",
   "execution_count": 49,
   "id": "c6e3c6f2",
   "metadata": {},
   "outputs": [],
   "source": [
    "# q  cut\n",
    "# divides a continuous variable into set of discrete bins based on the qauntiles.\n",
    "#  qauntiles are the values that divide a data set into a specified number of equal parts\n",
    "\n",
    "df\n",
    "age_bins = pd.qcut(df[\"age\"],4)\n"
   ]
  },
  {
   "cell_type": "code",
   "execution_count": 50,
   "id": "7474fbce",
   "metadata": {},
   "outputs": [
    {
     "data": {
      "text/plain": [
       "0      (22.75, 32.5]\n",
       "1    (17.999, 22.75]\n",
       "2    (17.999, 22.75]\n",
       "3      (22.75, 32.5]\n",
       "4      (43.75, 55.0]\n",
       "5      (43.75, 55.0]\n",
       "6      (32.5, 43.75]\n",
       "7    (17.999, 22.75]\n",
       "8      (43.75, 55.0]\n",
       "9      (32.5, 43.75]\n",
       "Name: age, dtype: category\n",
       "Categories (4, interval[float64, right]): [(17.999, 22.75] < (22.75, 32.5] < (32.5, 43.75] < (43.75, 55.0]]"
      ]
     },
     "execution_count": 50,
     "metadata": {},
     "output_type": "execute_result"
    }
   ],
   "source": [
    "age_bins"
   ]
  },
  {
   "cell_type": "code",
   "execution_count": 52,
   "id": "f44ca956",
   "metadata": {},
   "outputs": [
    {
     "data": {
      "text/html": [
       "<div>\n",
       "<style scoped>\n",
       "    .dataframe tbody tr th:only-of-type {\n",
       "        vertical-align: middle;\n",
       "    }\n",
       "\n",
       "    .dataframe tbody tr th {\n",
       "        vertical-align: top;\n",
       "    }\n",
       "\n",
       "    .dataframe thead th {\n",
       "        text-align: right;\n",
       "    }\n",
       "</style>\n",
       "<table border=\"1\" class=\"dataframe\">\n",
       "  <thead>\n",
       "    <tr style=\"text-align: right;\">\n",
       "      <th></th>\n",
       "      <th>age</th>\n",
       "      <th>gender</th>\n",
       "      <th>score</th>\n",
       "      <th>score_bins</th>\n",
       "      <th>age_bins</th>\n",
       "    </tr>\n",
       "  </thead>\n",
       "  <tbody>\n",
       "    <tr>\n",
       "      <th>0</th>\n",
       "      <td>25</td>\n",
       "      <td>M</td>\n",
       "      <td>90</td>\n",
       "      <td>high</td>\n",
       "      <td>mid-young</td>\n",
       "    </tr>\n",
       "    <tr>\n",
       "      <th>1</th>\n",
       "      <td>22</td>\n",
       "      <td>F</td>\n",
       "      <td>80</td>\n",
       "      <td>low</td>\n",
       "      <td>Young</td>\n",
       "    </tr>\n",
       "    <tr>\n",
       "      <th>2</th>\n",
       "      <td>18</td>\n",
       "      <td>F</td>\n",
       "      <td>75</td>\n",
       "      <td>low</td>\n",
       "      <td>Young</td>\n",
       "    </tr>\n",
       "    <tr>\n",
       "      <th>3</th>\n",
       "      <td>30</td>\n",
       "      <td>M</td>\n",
       "      <td>95</td>\n",
       "      <td>very high</td>\n",
       "      <td>mid-young</td>\n",
       "    </tr>\n",
       "    <tr>\n",
       "      <th>4</th>\n",
       "      <td>45</td>\n",
       "      <td>M</td>\n",
       "      <td>70</td>\n",
       "      <td>Very low</td>\n",
       "      <td>senior</td>\n",
       "    </tr>\n",
       "    <tr>\n",
       "      <th>5</th>\n",
       "      <td>50</td>\n",
       "      <td>F</td>\n",
       "      <td>85</td>\n",
       "      <td>medium</td>\n",
       "      <td>senior</td>\n",
       "    </tr>\n",
       "    <tr>\n",
       "      <th>6</th>\n",
       "      <td>35</td>\n",
       "      <td>M</td>\n",
       "      <td>75</td>\n",
       "      <td>low</td>\n",
       "      <td>mid-adult</td>\n",
       "    </tr>\n",
       "    <tr>\n",
       "      <th>7</th>\n",
       "      <td>20</td>\n",
       "      <td>F</td>\n",
       "      <td>90</td>\n",
       "      <td>high</td>\n",
       "      <td>Young</td>\n",
       "    </tr>\n",
       "    <tr>\n",
       "      <th>8</th>\n",
       "      <td>55</td>\n",
       "      <td>M</td>\n",
       "      <td>95</td>\n",
       "      <td>very high</td>\n",
       "      <td>senior</td>\n",
       "    </tr>\n",
       "    <tr>\n",
       "      <th>9</th>\n",
       "      <td>40</td>\n",
       "      <td>M</td>\n",
       "      <td>85</td>\n",
       "      <td>medium</td>\n",
       "      <td>mid-adult</td>\n",
       "    </tr>\n",
       "  </tbody>\n",
       "</table>\n",
       "</div>"
      ],
      "text/plain": [
       "   age gender  score score_bins   age_bins\n",
       "0   25      M     90       high  mid-young\n",
       "1   22      F     80        low      Young\n",
       "2   18      F     75        low      Young\n",
       "3   30      M     95  very high  mid-young\n",
       "4   45      M     70   Very low     senior\n",
       "5   50      F     85     medium     senior\n",
       "6   35      M     75        low  mid-adult\n",
       "7   20      F     90       high      Young\n",
       "8   55      M     95  very high     senior\n",
       "9   40      M     85     medium  mid-adult"
      ]
     },
     "execution_count": 52,
     "metadata": {},
     "output_type": "execute_result"
    }
   ],
   "source": [
    "# labels\n",
    "df[\"age_bins\"] = pd.qcut(df[\"age\"],4 , labels = [\"Young\", \"mid-young\", \"mid-adult\",\"senior\"] )\n",
    "df"
   ]
  },
  {
   "cell_type": "markdown",
   "id": "caafe4e6",
   "metadata": {},
   "source": [
    "#### Group by"
   ]
  },
  {
   "cell_type": "code",
   "execution_count": 54,
   "id": "a5ff02ad",
   "metadata": {},
   "outputs": [],
   "source": [
    "data_g = {'age': [25, 22, 18, 30, 45, 50, 35, 20, 55, 40],\n",
    "        'gender': ['M', 'F', 'F', 'M', 'M', 'F', 'M', 'F', 'M', 'M'],\n",
    "        'score': [90, 80, 75, 95, 70, 85, 75, 90, 95, 85]}\n",
    "df_g = pd.DataFrame(data_g)"
   ]
  },
  {
   "cell_type": "code",
   "execution_count": 55,
   "id": "3052130d",
   "metadata": {},
   "outputs": [
    {
     "data": {
      "text/plain": [
       "<pandas.core.groupby.generic.DataFrameGroupBy object at 0x000001CC6EB5B4D0>"
      ]
     },
     "execution_count": 55,
     "metadata": {},
     "output_type": "execute_result"
    }
   ],
   "source": [
    "grouped = df_g.groupby(\"gender\")\n",
    "grouped"
   ]
  },
  {
   "cell_type": "code",
   "execution_count": 56,
   "id": "60a7bedd",
   "metadata": {},
   "outputs": [
    {
     "data": {
      "text/plain": [
       "gender\n",
       "F    82.5\n",
       "M    85.0\n",
       "Name: score, dtype: float64"
      ]
     },
     "execution_count": 56,
     "metadata": {},
     "output_type": "execute_result"
    }
   ],
   "source": [
    "grouped[\"score\"].mean()"
   ]
  },
  {
   "cell_type": "code",
   "execution_count": 57,
   "id": "cfe6f73b",
   "metadata": {},
   "outputs": [
    {
     "data": {
      "text/plain": [
       "gender\n",
       "F    82.5\n",
       "M    85.0\n",
       "Name: score, dtype: float64"
      ]
     },
     "execution_count": 57,
     "metadata": {},
     "output_type": "execute_result"
    }
   ],
   "source": [
    "df_g.groupby(\"gender\")[\"score\"].mean()"
   ]
  },
  {
   "cell_type": "code",
   "execution_count": 58,
   "id": "e34980ac",
   "metadata": {},
   "outputs": [
    {
     "data": {
      "text/html": [
       "<div>\n",
       "<style scoped>\n",
       "    .dataframe tbody tr th:only-of-type {\n",
       "        vertical-align: middle;\n",
       "    }\n",
       "\n",
       "    .dataframe tbody tr th {\n",
       "        vertical-align: top;\n",
       "    }\n",
       "\n",
       "    .dataframe thead th {\n",
       "        text-align: right;\n",
       "    }\n",
       "</style>\n",
       "<table border=\"1\" class=\"dataframe\">\n",
       "  <thead>\n",
       "    <tr style=\"text-align: right;\">\n",
       "      <th></th>\n",
       "      <th>mean</th>\n",
       "      <th>sum</th>\n",
       "      <th>count</th>\n",
       "    </tr>\n",
       "    <tr>\n",
       "      <th>gender</th>\n",
       "      <th></th>\n",
       "      <th></th>\n",
       "      <th></th>\n",
       "    </tr>\n",
       "  </thead>\n",
       "  <tbody>\n",
       "    <tr>\n",
       "      <th>F</th>\n",
       "      <td>82.5</td>\n",
       "      <td>330</td>\n",
       "      <td>4</td>\n",
       "    </tr>\n",
       "    <tr>\n",
       "      <th>M</th>\n",
       "      <td>85.0</td>\n",
       "      <td>510</td>\n",
       "      <td>6</td>\n",
       "    </tr>\n",
       "  </tbody>\n",
       "</table>\n",
       "</div>"
      ],
      "text/plain": [
       "        mean  sum  count\n",
       "gender                  \n",
       "F       82.5  330      4\n",
       "M       85.0  510      6"
      ]
     },
     "execution_count": 58,
     "metadata": {},
     "output_type": "execute_result"
    }
   ],
   "source": [
    "#mean,sum,count for the score column for each grp\n",
    "grouped[\"score\"].agg([\"mean\", \"sum\",\"count\"])"
   ]
  },
  {
   "cell_type": "code",
   "execution_count": 59,
   "id": "84eb528c",
   "metadata": {},
   "outputs": [
    {
     "data": {
      "text/html": [
       "<div>\n",
       "<style scoped>\n",
       "    .dataframe tbody tr th:only-of-type {\n",
       "        vertical-align: middle;\n",
       "    }\n",
       "\n",
       "    .dataframe tbody tr th {\n",
       "        vertical-align: top;\n",
       "    }\n",
       "\n",
       "    .dataframe thead th {\n",
       "        text-align: right;\n",
       "    }\n",
       "</style>\n",
       "<table border=\"1\" class=\"dataframe\">\n",
       "  <thead>\n",
       "    <tr style=\"text-align: right;\">\n",
       "      <th></th>\n",
       "      <th>age</th>\n",
       "      <th>score</th>\n",
       "    </tr>\n",
       "    <tr>\n",
       "      <th>gender</th>\n",
       "      <th></th>\n",
       "      <th></th>\n",
       "    </tr>\n",
       "  </thead>\n",
       "  <tbody>\n",
       "    <tr>\n",
       "      <th>F</th>\n",
       "      <td>50</td>\n",
       "      <td>82.5</td>\n",
       "    </tr>\n",
       "    <tr>\n",
       "      <th>M</th>\n",
       "      <td>55</td>\n",
       "      <td>85.0</td>\n",
       "    </tr>\n",
       "  </tbody>\n",
       "</table>\n",
       "</div>"
      ],
      "text/plain": [
       "        age  score\n",
       "gender            \n",
       "F        50   82.5\n",
       "M        55   85.0"
      ]
     },
     "execution_count": 59,
     "metadata": {},
     "output_type": "execute_result"
    }
   ],
   "source": [
    "df_g.groupby(\"gender\").agg({\"age\" : \"max\", \"score\" : \"mean\"})"
   ]
  },
  {
   "cell_type": "markdown",
   "id": "c81cf34c",
   "metadata": {},
   "source": [
    "#### 6. Pivot table \n",
    "###### Pivot tables in pandas are used to reshape and aggregate data, similar to pivot tables in spreadsheet software. They allow for summarizing data in a structured format, making it easier to analyze and extract insights. The pivot_table() function is the primary tool for creating these tables.\n",
    "\n",
    "###### import pandas as pd\n",
    "\n",
    "###### pd.pivot_table(data, values=None, index=None, columns=None, aggfunc='mean', fill_value=None, margins=False, dropna=True, margins_name='All', observed=False, sort=True)\n",
    "###### data: DataFrame to be used.\n",
    "###### values: Column to aggregate.\n",
    "###### index: Column(s) to group by on the rows.\n",
    "###### columns: Column(s) to group by on the columns.\n",
    "###### aggfunc: Aggregation function (e.g., 'mean', 'sum', 'count').\n",
    "###### fill_value: Value to replace missing values.\n",
    "###### margins: Add subtotals and grand totals.\n",
    "###### dropna: Drop columns with all NaN values.\n",
    "###### margins_name: Name for margin rows and columns.\n",
    "###### observed: Show only observed values for categorical groupers.\n",
    "###### sort: Sort the result.\n",
    "\n"
   ]
  },
  {
   "cell_type": "code",
   "execution_count": 61,
   "id": "3de0ad56",
   "metadata": {},
   "outputs": [
    {
     "data": {
      "text/html": [
       "<div>\n",
       "<style scoped>\n",
       "    .dataframe tbody tr th:only-of-type {\n",
       "        vertical-align: middle;\n",
       "    }\n",
       "\n",
       "    .dataframe tbody tr th {\n",
       "        vertical-align: top;\n",
       "    }\n",
       "\n",
       "    .dataframe thead th {\n",
       "        text-align: right;\n",
       "    }\n",
       "</style>\n",
       "<table border=\"1\" class=\"dataframe\">\n",
       "  <thead>\n",
       "    <tr style=\"text-align: right;\">\n",
       "      <th></th>\n",
       "      <th>score</th>\n",
       "    </tr>\n",
       "    <tr>\n",
       "      <th>gender</th>\n",
       "      <th></th>\n",
       "    </tr>\n",
       "  </thead>\n",
       "  <tbody>\n",
       "    <tr>\n",
       "      <th>F</th>\n",
       "      <td>82.5</td>\n",
       "    </tr>\n",
       "    <tr>\n",
       "      <th>M</th>\n",
       "      <td>85.0</td>\n",
       "    </tr>\n",
       "  </tbody>\n",
       "</table>\n",
       "</div>"
      ],
      "text/plain": [
       "        score\n",
       "gender       \n",
       "F        82.5\n",
       "M        85.0"
      ]
     },
     "execution_count": 61,
     "metadata": {},
     "output_type": "execute_result"
    }
   ],
   "source": [
    "# table that grps the data by the gender column \n",
    "# and calculates the mean of score column \n",
    "\n",
    "\n",
    "df_g.pivot_table(index = \"gender\",\n",
    "                 values = \"score\",\n",
    "                 aggfunc= \"mean\")"
   ]
  },
  {
   "cell_type": "code",
   "execution_count": 68,
   "id": "9f781ec1",
   "metadata": {},
   "outputs": [
    {
     "data": {
      "text/html": [
       "<div>\n",
       "<style scoped>\n",
       "    .dataframe tbody tr th:only-of-type {\n",
       "        vertical-align: middle;\n",
       "    }\n",
       "\n",
       "    .dataframe tbody tr th {\n",
       "        vertical-align: top;\n",
       "    }\n",
       "\n",
       "    .dataframe thead tr th {\n",
       "        text-align: left;\n",
       "    }\n",
       "\n",
       "    .dataframe thead tr:last-of-type th {\n",
       "        text-align: right;\n",
       "    }\n",
       "</style>\n",
       "<table border=\"1\" class=\"dataframe\">\n",
       "  <thead>\n",
       "    <tr>\n",
       "      <th></th>\n",
       "      <th colspan=\"2\" halign=\"left\">sum</th>\n",
       "      <th colspan=\"2\" halign=\"left\">mean</th>\n",
       "      <th colspan=\"2\" halign=\"left\">count</th>\n",
       "      <th colspan=\"2\" halign=\"left\">max</th>\n",
       "      <th colspan=\"2\" halign=\"left\">min</th>\n",
       "    </tr>\n",
       "    <tr>\n",
       "      <th></th>\n",
       "      <th>age</th>\n",
       "      <th>score</th>\n",
       "      <th>age</th>\n",
       "      <th>score</th>\n",
       "      <th>age</th>\n",
       "      <th>score</th>\n",
       "      <th>age</th>\n",
       "      <th>score</th>\n",
       "      <th>age</th>\n",
       "      <th>score</th>\n",
       "    </tr>\n",
       "    <tr>\n",
       "      <th>gender</th>\n",
       "      <th></th>\n",
       "      <th></th>\n",
       "      <th></th>\n",
       "      <th></th>\n",
       "      <th></th>\n",
       "      <th></th>\n",
       "      <th></th>\n",
       "      <th></th>\n",
       "      <th></th>\n",
       "      <th></th>\n",
       "    </tr>\n",
       "  </thead>\n",
       "  <tbody>\n",
       "    <tr>\n",
       "      <th>F</th>\n",
       "      <td>110</td>\n",
       "      <td>330</td>\n",
       "      <td>27.500000</td>\n",
       "      <td>82.5</td>\n",
       "      <td>4</td>\n",
       "      <td>4</td>\n",
       "      <td>50</td>\n",
       "      <td>90</td>\n",
       "      <td>18</td>\n",
       "      <td>75</td>\n",
       "    </tr>\n",
       "    <tr>\n",
       "      <th>M</th>\n",
       "      <td>230</td>\n",
       "      <td>510</td>\n",
       "      <td>38.333333</td>\n",
       "      <td>85.0</td>\n",
       "      <td>6</td>\n",
       "      <td>6</td>\n",
       "      <td>55</td>\n",
       "      <td>95</td>\n",
       "      <td>25</td>\n",
       "      <td>70</td>\n",
       "    </tr>\n",
       "  </tbody>\n",
       "</table>\n",
       "</div>"
      ],
      "text/plain": [
       "        sum             mean       count       max       min      \n",
       "        age score        age score   age score age score age score\n",
       "gender                                                            \n",
       "F       110   330  27.500000  82.5     4     4  50    90  18    75\n",
       "M       230   510  38.333333  85.0     6     6  55    95  25    70"
      ]
     },
     "execution_count": 68,
     "metadata": {},
     "output_type": "execute_result"
    }
   ],
   "source": [
    "df_g.pivot_table(index = [\"gender\"],\n",
    "                 values = [\"age\", \"score\"],\n",
    "                 aggfunc= [\"sum\",\"mean\",\"count\",\"max\",\"min\"])"
   ]
  },
  {
   "cell_type": "markdown",
   "id": "737cc490",
   "metadata": {},
   "source": [
    "##### Nlargest and Nsmallest\n",
    "\n",
    "###### nlargest(n, columns, keep='first')\n",
    "###### Returns the first n rows with the largest values in the specified column(s), in descending order. \n",
    "###### n: Number of top rows to retrieve.\n",
    "###### columns: Column name(s) to order by.\n",
    "###### keep: Specifies how to handle duplicate values (ties):\n",
    "######          'first' (default): Prioritize the first occurrence(s).\n",
    "######          'last': Prioritize the last occurrence(s).\n",
    "######          'all': Keep all occurrences, even if it results in more than n rows."
   ]
  },
  {
   "cell_type": "code",
   "execution_count": 71,
   "id": "2835f8be",
   "metadata": {},
   "outputs": [
    {
     "data": {
      "text/html": [
       "<div>\n",
       "<style scoped>\n",
       "    .dataframe tbody tr th:only-of-type {\n",
       "        vertical-align: middle;\n",
       "    }\n",
       "\n",
       "    .dataframe tbody tr th {\n",
       "        vertical-align: top;\n",
       "    }\n",
       "\n",
       "    .dataframe thead th {\n",
       "        text-align: right;\n",
       "    }\n",
       "</style>\n",
       "<table border=\"1\" class=\"dataframe\">\n",
       "  <thead>\n",
       "    <tr style=\"text-align: right;\">\n",
       "      <th></th>\n",
       "      <th>age</th>\n",
       "      <th>gender</th>\n",
       "      <th>score</th>\n",
       "    </tr>\n",
       "  </thead>\n",
       "  <tbody>\n",
       "    <tr>\n",
       "      <th>3</th>\n",
       "      <td>30</td>\n",
       "      <td>M</td>\n",
       "      <td>95</td>\n",
       "    </tr>\n",
       "    <tr>\n",
       "      <th>8</th>\n",
       "      <td>55</td>\n",
       "      <td>M</td>\n",
       "      <td>95</td>\n",
       "    </tr>\n",
       "    <tr>\n",
       "      <th>0</th>\n",
       "      <td>25</td>\n",
       "      <td>M</td>\n",
       "      <td>90</td>\n",
       "    </tr>\n",
       "  </tbody>\n",
       "</table>\n",
       "</div>"
      ],
      "text/plain": [
       "   age gender  score\n",
       "3   30      M     95\n",
       "8   55      M     95\n",
       "0   25      M     90"
      ]
     },
     "execution_count": 71,
     "metadata": {},
     "output_type": "execute_result"
    }
   ],
   "source": [
    "df_g[\"score\"].nlargest(3)\n",
    "\n",
    "df_g.nlargest(3,\"score\")"
   ]
  },
  {
   "cell_type": "code",
   "execution_count": 73,
   "id": "3c0978cf",
   "metadata": {},
   "outputs": [
    {
     "data": {
      "text/html": [
       "<div>\n",
       "<style scoped>\n",
       "    .dataframe tbody tr th:only-of-type {\n",
       "        vertical-align: middle;\n",
       "    }\n",
       "\n",
       "    .dataframe tbody tr th {\n",
       "        vertical-align: top;\n",
       "    }\n",
       "\n",
       "    .dataframe thead th {\n",
       "        text-align: right;\n",
       "    }\n",
       "</style>\n",
       "<table border=\"1\" class=\"dataframe\">\n",
       "  <thead>\n",
       "    <tr style=\"text-align: right;\">\n",
       "      <th></th>\n",
       "      <th>age</th>\n",
       "      <th>gender</th>\n",
       "      <th>score</th>\n",
       "    </tr>\n",
       "  </thead>\n",
       "  <tbody>\n",
       "    <tr>\n",
       "      <th>4</th>\n",
       "      <td>45</td>\n",
       "      <td>M</td>\n",
       "      <td>70</td>\n",
       "    </tr>\n",
       "    <tr>\n",
       "      <th>2</th>\n",
       "      <td>18</td>\n",
       "      <td>F</td>\n",
       "      <td>75</td>\n",
       "    </tr>\n",
       "    <tr>\n",
       "      <th>6</th>\n",
       "      <td>35</td>\n",
       "      <td>M</td>\n",
       "      <td>75</td>\n",
       "    </tr>\n",
       "  </tbody>\n",
       "</table>\n",
       "</div>"
      ],
      "text/plain": [
       "   age gender  score\n",
       "4   45      M     70\n",
       "2   18      F     75\n",
       "6   35      M     75"
      ]
     },
     "execution_count": 73,
     "metadata": {},
     "output_type": "execute_result"
    }
   ],
   "source": [
    "df_g[\"score\"].nsmallest(3)\n",
    "\n",
    "df_g.nsmallest(3,\"score\")\n"
   ]
  },
  {
   "cell_type": "markdown",
   "id": "51c83e75",
   "metadata": {},
   "source": [
    "#### 8. Query"
   ]
  },
  {
   "cell_type": "code",
   "execution_count": 77,
   "id": "f820a3fb",
   "metadata": {},
   "outputs": [
    {
     "data": {
      "text/html": [
       "<div>\n",
       "<style scoped>\n",
       "    .dataframe tbody tr th:only-of-type {\n",
       "        vertical-align: middle;\n",
       "    }\n",
       "\n",
       "    .dataframe tbody tr th {\n",
       "        vertical-align: top;\n",
       "    }\n",
       "\n",
       "    .dataframe thead th {\n",
       "        text-align: right;\n",
       "    }\n",
       "</style>\n",
       "<table border=\"1\" class=\"dataframe\">\n",
       "  <thead>\n",
       "    <tr style=\"text-align: right;\">\n",
       "      <th></th>\n",
       "      <th>age</th>\n",
       "      <th>gender</th>\n",
       "      <th>score</th>\n",
       "    </tr>\n",
       "  </thead>\n",
       "  <tbody>\n",
       "    <tr>\n",
       "      <th>5</th>\n",
       "      <td>50</td>\n",
       "      <td>F</td>\n",
       "      <td>85</td>\n",
       "    </tr>\n",
       "  </tbody>\n",
       "</table>\n",
       "</div>"
      ],
      "text/plain": [
       "   age gender  score\n",
       "5   50      F     85"
      ]
     },
     "execution_count": 77,
     "metadata": {},
     "output_type": "execute_result"
    }
   ],
   "source": [
    "df_g.query(\"age>25 and gender=='F'\")"
   ]
  },
  {
   "cell_type": "markdown",
   "id": "ae178546",
   "metadata": {},
   "source": [
    "##### 9. sort_values"
   ]
  },
  {
   "cell_type": "code",
   "execution_count": 79,
   "id": "1c491547",
   "metadata": {},
   "outputs": [
    {
     "data": {
      "text/html": [
       "<div>\n",
       "<style scoped>\n",
       "    .dataframe tbody tr th:only-of-type {\n",
       "        vertical-align: middle;\n",
       "    }\n",
       "\n",
       "    .dataframe tbody tr th {\n",
       "        vertical-align: top;\n",
       "    }\n",
       "\n",
       "    .dataframe thead th {\n",
       "        text-align: right;\n",
       "    }\n",
       "</style>\n",
       "<table border=\"1\" class=\"dataframe\">\n",
       "  <thead>\n",
       "    <tr style=\"text-align: right;\">\n",
       "      <th></th>\n",
       "      <th>age</th>\n",
       "      <th>gender</th>\n",
       "      <th>score</th>\n",
       "    </tr>\n",
       "  </thead>\n",
       "  <tbody>\n",
       "    <tr>\n",
       "      <th>2</th>\n",
       "      <td>18</td>\n",
       "      <td>F</td>\n",
       "      <td>75</td>\n",
       "    </tr>\n",
       "    <tr>\n",
       "      <th>7</th>\n",
       "      <td>20</td>\n",
       "      <td>F</td>\n",
       "      <td>90</td>\n",
       "    </tr>\n",
       "    <tr>\n",
       "      <th>1</th>\n",
       "      <td>22</td>\n",
       "      <td>F</td>\n",
       "      <td>80</td>\n",
       "    </tr>\n",
       "    <tr>\n",
       "      <th>0</th>\n",
       "      <td>25</td>\n",
       "      <td>M</td>\n",
       "      <td>90</td>\n",
       "    </tr>\n",
       "    <tr>\n",
       "      <th>3</th>\n",
       "      <td>30</td>\n",
       "      <td>M</td>\n",
       "      <td>95</td>\n",
       "    </tr>\n",
       "    <tr>\n",
       "      <th>6</th>\n",
       "      <td>35</td>\n",
       "      <td>M</td>\n",
       "      <td>75</td>\n",
       "    </tr>\n",
       "    <tr>\n",
       "      <th>9</th>\n",
       "      <td>40</td>\n",
       "      <td>M</td>\n",
       "      <td>85</td>\n",
       "    </tr>\n",
       "    <tr>\n",
       "      <th>4</th>\n",
       "      <td>45</td>\n",
       "      <td>M</td>\n",
       "      <td>70</td>\n",
       "    </tr>\n",
       "    <tr>\n",
       "      <th>5</th>\n",
       "      <td>50</td>\n",
       "      <td>F</td>\n",
       "      <td>85</td>\n",
       "    </tr>\n",
       "    <tr>\n",
       "      <th>8</th>\n",
       "      <td>55</td>\n",
       "      <td>M</td>\n",
       "      <td>95</td>\n",
       "    </tr>\n",
       "  </tbody>\n",
       "</table>\n",
       "</div>"
      ],
      "text/plain": [
       "   age gender  score\n",
       "2   18      F     75\n",
       "7   20      F     90\n",
       "1   22      F     80\n",
       "0   25      M     90\n",
       "3   30      M     95\n",
       "6   35      M     75\n",
       "9   40      M     85\n",
       "4   45      M     70\n",
       "5   50      F     85\n",
       "8   55      M     95"
      ]
     },
     "execution_count": 79,
     "metadata": {},
     "output_type": "execute_result"
    }
   ],
   "source": [
    "df_g.sort_values(by=\"age\",ascending=False)\n",
    "df_g.sort_values(by=\"age\",ascending=True)"
   ]
  },
  {
   "cell_type": "markdown",
   "id": "878dbf28",
   "metadata": {},
   "source": [
    "#### 10. apply()"
   ]
  },
  {
   "cell_type": "code",
   "execution_count": 83,
   "id": "ab77a217",
   "metadata": {},
   "outputs": [
    {
     "data": {
      "text/plain": [
       "0     625\n",
       "1     484\n",
       "2     324\n",
       "3     900\n",
       "4    2025\n",
       "5    2500\n",
       "6    1225\n",
       "7     400\n",
       "8    3025\n",
       "9    1600\n",
       "Name: age, dtype: int64"
      ]
     },
     "execution_count": 83,
     "metadata": {},
     "output_type": "execute_result"
    }
   ],
   "source": [
    "# values of gender column in lower case so \n",
    "df[\"gender\"].apply(str.lower)\n",
    "\n",
    "df[\"age\"].apply(lambda x : x**2)\n",
    "\n"
   ]
  },
  {
   "cell_type": "code",
   "execution_count": 84,
   "id": "9797ea4b",
   "metadata": {},
   "outputs": [],
   "source": [
    "def age(x):\n",
    "    return x**2\n"
   ]
  },
  {
   "cell_type": "code",
   "execution_count": 85,
   "id": "97edef54",
   "metadata": {},
   "outputs": [
    {
     "data": {
      "text/plain": [
       "0     625\n",
       "1     484\n",
       "2     324\n",
       "3     900\n",
       "4    2025\n",
       "5    2500\n",
       "6    1225\n",
       "7     400\n",
       "8    3025\n",
       "9    1600\n",
       "Name: age, dtype: int64"
      ]
     },
     "execution_count": 85,
     "metadata": {},
     "output_type": "execute_result"
    }
   ],
   "source": [
    "df[\"age\"].apply(age)"
   ]
  }
 ],
 "metadata": {
  "kernelspec": {
   "display_name": ".venv",
   "language": "python",
   "name": "python3"
  },
  "language_info": {
   "codemirror_mode": {
    "name": "ipython",
    "version": 3
   },
   "file_extension": ".py",
   "mimetype": "text/x-python",
   "name": "python",
   "nbconvert_exporter": "python",
   "pygments_lexer": "ipython3",
   "version": "3.13.3"
  }
 },
 "nbformat": 4,
 "nbformat_minor": 5
}
